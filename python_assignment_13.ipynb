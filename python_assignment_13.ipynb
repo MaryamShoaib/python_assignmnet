{
  "nbformat": 4,
  "nbformat_minor": 0,
  "metadata": {
    "colab": {
      "provenance": []
    },
    "kernelspec": {
      "name": "python3",
      "display_name": "Python 3"
    },
    "language_info": {
      "name": "python"
    }
  },
  "cells": [
    {
      "cell_type": "code",
      "execution_count": 3,
      "metadata": {
        "colab": {
          "base_uri": "https://localhost:8080/"
        },
        "id": "WWM1KjXMlZfi",
        "outputId": "5f477074-8804-4d95-b4da-36ece91c1b00"
      },
      "outputs": [
        {
          "output_type": "stream",
          "name": "stdout",
          "text": [
            "Enter D value here: 100,150,180\n",
            "[18, 22, 24]\n"
          ]
        }
      ],
      "source": [
        "\"\"\"Question 1:\n",
        "Write a program that calculates and prints the value according to the given formula:\n",
        "Q = Square root of [(2 * C * D)/H]\n",
        "Following are the fixed values of C and H:\n",
        "C is 50. H is 30.\n",
        "D is the variable whose values should be input to your program in a comma-separated\n",
        "sequence.\n",
        "Example\n",
        "Let us assume the following comma separated input sequence is given to the program:\n",
        "100,150,180\n",
        "The output of the program should be:\n",
        "18,22,24\"\"\"\n",
        "\n",
        "import math\n",
        "\n",
        "d = input(\"Enter D value here: \")\n",
        "d = d.split(\",\")\n",
        "r = []\n",
        "\n",
        "for i in d:\n",
        "  Q = round(math.sqrt(2*50*int(i)/30))\n",
        "  r.append(Q)\n",
        "\n",
        "print(r)\n",
        "\n"
      ]
    },
    {
      "cell_type": "code",
      "source": [
        "'''Question 2:\n",
        "Write a program which takes 2 digits, X,Y as input and generates a 2-dimensional array. The\n",
        "element value in the i-th row and j-th column of the array should be i*j.\n",
        "Note: i=0,1.., X-1; j=0,1,¡Y-1.\n",
        "Example\n",
        "Suppose the following inputs are given to the program:\n",
        "3,5\n",
        "Then, the output of the program should be:\n",
        "[[0, 0, 0, 0, 0], [0, 1, 2, 3, 4], [0, 2, 4, 6, 8]]'''\n",
        "r = int(input(\"Enter no. of rows: \"))\n",
        "c = int(input(\"Enter no. of columns: \"))\n",
        "ar =[[0 for j in range(c)] for i in range(r)]\n",
        "\n",
        "for i in range(r):\n",
        "  for j in range(c):\n",
        "    ar[i][j]= i*j\n",
        "\n",
        "print(ar)\n"
      ],
      "metadata": {
        "colab": {
          "base_uri": "https://localhost:8080/"
        },
        "id": "jHViT3vK7VLF",
        "outputId": "99c73c1c-27ea-47b2-dd85-b1dc48ec483a"
      },
      "execution_count": 27,
      "outputs": [
        {
          "output_type": "stream",
          "name": "stdout",
          "text": [
            "Enter no. of rows: 3\n",
            "Enter no. of columns: 5\n",
            "[[0, 0, 0, 0, 0], [0, 1, 2, 3, 4], [0, 2, 4, 6, 8]]\n"
          ]
        }
      ]
    },
    {
      "cell_type": "code",
      "source": [
        "\"\"\"Write a program that accepts a comma separated sequence of words as input and prints the\n",
        "words in a comma-separated sequence after sorting them alphabetically.\n",
        "Suppose the following input is supplied to the program:\n",
        "without,hello,bag,world\n",
        "Then, the output should be:\n",
        "bag,hello,without,world\"\"\"\n",
        "\n",
        "n = input(\"Enter words here: \")\n",
        "n1 = n.split(\",\")\n",
        "n1.sort()\n",
        "print(\",\".join(n1))"
      ],
      "metadata": {
        "colab": {
          "base_uri": "https://localhost:8080/"
        },
        "id": "wMfNo9uBeGkf",
        "outputId": "66e88581-06a0-41b7-b59d-d58316ab2b82"
      },
      "execution_count": 7,
      "outputs": [
        {
          "output_type": "stream",
          "name": "stdout",
          "text": [
            "Enter words here: without,hello,bag,world\n",
            "bag,hello,without,world\n"
          ]
        }
      ]
    },
    {
      "cell_type": "code",
      "source": [
        "\"\"\"Question 4:\n",
        "Write a program that accepts a sequence of whitespace separated words as input and prints\n",
        "the words after removing all duplicate words and sorting them alphanumerically.\n",
        "Suppose the following input is supplied to the program:\n",
        "hello world and practice makes perfect and hello world again\n",
        "Then, the output should be:\n",
        "again and hello makes perfect practice world\"\"\"\n",
        "\n",
        "n = input(\"Enter a sentence here: \")\n",
        "n1 = n.split(\" \")\n",
        "p = []\n",
        "for i in n1:\n",
        "  if i not in p:\n",
        "    p.append(i)\n",
        "    p.sort()\n",
        "\n",
        "  else:\n",
        "    continue\n",
        "\n",
        "print(\",\".join(p))\n",
        "\n"
      ],
      "metadata": {
        "colab": {
          "base_uri": "https://localhost:8080/"
        },
        "id": "CbXrheshlzE7",
        "outputId": "cff870e3-2db1-41a0-e6dd-72fd37da5e91"
      },
      "execution_count": 11,
      "outputs": [
        {
          "output_type": "stream",
          "name": "stdout",
          "text": [
            "Enter a sentence here: hello world and practice makes perfect and hello world again\n",
            "again,and,hello,makes,perfect,practice,world\n"
          ]
        }
      ]
    },
    {
      "cell_type": "code",
      "source": [
        "\"\"\"Question 5:\n",
        "Write a program that accepts a sentence and calculate the number of letters and digits.\n",
        "Suppose the following input is supplied to the program:\n",
        "hello world! 123\n",
        "Then, the output should be:\n",
        "LETTERS 10\"\"\"\n",
        "n = input(\"Enter a sentence here: \")\n",
        "p = list(n)\n",
        "l = 0\n",
        "d = 0\n",
        "for i in p:\n",
        "  if i.isalpha():\n",
        "    l = l+1\n",
        "\n",
        "  if i.isdigit():\n",
        "    d = d+1\n",
        "\n",
        "  else:\n",
        "    pass\n",
        "\n",
        "print(\"Letter\",l)\n",
        "print(\"Digit\", d)\n",
        "\n",
        "\n",
        "\n",
        "\n"
      ],
      "metadata": {
        "colab": {
          "base_uri": "https://localhost:8080/"
        },
        "id": "Vb5Bu5hDsIEd",
        "outputId": "75ca1193-5128-417a-f676-30fc8ba35dcb"
      },
      "execution_count": 22,
      "outputs": [
        {
          "output_type": "stream",
          "name": "stdout",
          "text": [
            "Enter a sentence here: hello world! 123\n",
            "Letter 10\n",
            "Digit 3\n"
          ]
        }
      ]
    },
    {
      "cell_type": "code",
      "source": [
        "\"\"\"Question 6:\n",
        "A website requires the users to input username and password to register. Write a program to\n",
        "check the validity of password input by users.\n",
        "Following are the criteria for checking the password:\n",
        "1. At least 1 letter between [a-z]\n",
        "2. At least 1 number between [0-9]\n",
        "1. At least 1 letter between [A-Z]\n",
        "3. At least 1 character from [$#@]\n",
        "4. Minimum length of transaction password: 6\n",
        "5. Maximum length of transaction password: 12\n",
        "Your program should accept a sequence of comma separated passwords and will check them\n",
        "according to the above criteria. Passwords that match the criteria are to be printed, each\n",
        "separated by a comma.\n",
        "Example\n",
        "If the following passwords are given as input to the program:\n",
        "ABd1234@1,a F1#,2w3E*,2We3345\n",
        "Then, the output of the program should be:\n",
        "ABd1234@1\"\"\"\n",
        "\n",
        "import re\n",
        "\n",
        "p = input(\"Enter a password here: \")\n",
        "p = p.split(\",\")\n",
        "ap = []\n",
        "\n",
        "for i in p:\n",
        "  if len(p)<6 and len(p)>12:\n",
        "    continue\n",
        "  elif not re.search(\"([a-z])+\", i):\n",
        "    continue\n",
        "  elif not re.search(\"([A-Z])+\", i):\n",
        "    continue\n",
        "  elif not re.search(\"([0-9])+\", i):\n",
        "    continue\n",
        "  elif not re.search(\"([!@$%^&])+\", i):\n",
        "    continue\n",
        "  else:\n",
        "    ap.append(i)\n",
        "\n",
        "print(\" \".join(ap))\n"
      ],
      "metadata": {
        "colab": {
          "base_uri": "https://localhost:8080/"
        },
        "id": "c3ASZmNxucD1",
        "outputId": "fab59444-c4fe-4f6e-a9c8-5c575e0c06f7"
      },
      "execution_count": 23,
      "outputs": [
        {
          "output_type": "stream",
          "name": "stdout",
          "text": [
            "Enter a password here: ABd1234@1,a F1#,2w3E*,2We3345\n",
            "ABd1234@1\n"
          ]
        }
      ]
    },
    {
      "cell_type": "code",
      "source": [],
      "metadata": {
        "id": "7YPfL-I-6vui"
      },
      "execution_count": null,
      "outputs": []
    }
  ]
}