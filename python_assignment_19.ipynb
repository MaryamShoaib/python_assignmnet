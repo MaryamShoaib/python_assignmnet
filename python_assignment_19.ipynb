{
  "nbformat": 4,
  "nbformat_minor": 0,
  "metadata": {
    "colab": {
      "provenance": []
    },
    "kernelspec": {
      "name": "python3",
      "display_name": "Python 3"
    },
    "language_info": {
      "name": "python"
    }
  },
  "cells": [
    {
      "cell_type": "code",
      "execution_count": 8,
      "metadata": {
        "colab": {
          "base_uri": "https://localhost:8080/"
        },
        "id": "CeGK7pmScGsn",
        "outputId": "e30688fb-b0ae-4fba-f034-a0594f0f1326"
      },
      "outputs": [
        {
          "output_type": "stream",
          "name": "stdout",
          "text": [
            "SSttrriinngg\n",
            "HHeelllloo  WWoorrlldd!!\n",
            "11223344!!__\n"
          ]
        }
      ],
      "source": [
        "'''Question1\n",
        "Create a function that takes a string and returns a string in which each character is repeated\n",
        "once.\n",
        "Examples\n",
        "double_char('String\") ➞ 'SSttrriinngg'\n",
        "double_char(Hello World!) ➞ HHeelllloo WWoorrlldd!!\n",
        "double_char(1234!_ ) ➞ '11223344!!__ '''\n",
        "\n",
        "def repstring(n):\n",
        "  f = ''\n",
        "  for i in n:\n",
        "    f = f+i+i\n",
        "  return f\n",
        "\n",
        "print(repstring(\"String\"))\n",
        "print(repstring(\"Hello World!\"))\n",
        "print(repstring(\"1234!_\"))"
      ]
    },
    {
      "cell_type": "code",
      "source": [
        "'''Question2\n",
        "Create a function that reverses a boolean value and returns the string 'boolean expected'\n",
        "if another variable type is given.\n",
        "Examples\n",
        "reverse(True) ➞ False\n",
        "reverse(False) ➞ True\n",
        "reverse(0) ➞ 'boolean expected'\n",
        "reverse(None) ➞ 'boolean expected'''\n",
        "\n",
        "def reverseboolean(n):\n",
        "  if n == \"True\":\n",
        "    print(\"False\")\n",
        "  elif n == \"False\":\n",
        "    print(\"True\")\n",
        "  else:\n",
        "    print(\"boolean expected\")\n",
        "\n",
        "n = input(\"Enter a word:\")\n",
        "reverseboolean(n)"
      ],
      "metadata": {
        "id": "R9JSAi10d1xJ",
        "colab": {
          "base_uri": "https://localhost:8080/"
        },
        "outputId": "90aebe96-afea-4aef-acac-efe6da5f61ff"
      },
      "execution_count": 11,
      "outputs": [
        {
          "output_type": "stream",
          "name": "stdout",
          "text": [
            "Enter a word:0\n",
            "boolean expected\n"
          ]
        }
      ]
    },
    {
      "cell_type": "code",
      "source": [
        "'''Question3\n",
        "Create a function that returns the thickness (in meters) of a piece of paper after folding it n\n",
        "number of times. The paper starts off with a thickness of 0.5mm.\n",
        "Examples\n",
        "num_layers(1) ➞ '0.001m'\n",
        "# Paper folded once is 1mm (equal to 0.001m)\n",
        "num_layers(4) ➞ '0.008m'\n",
        "# Paper folded 4 times is 8mm (equal to 0.008m)\n",
        "num_layers(21) ➞ '1048.576m'\n",
        "# Paper folded 21 times is 1048576mm (equal to 1048.576m)'''\n",
        "\n",
        "def thicknesspaper(n):\n",
        "  t = 0.5\n",
        "  for i in range(n):\n",
        "    t *= 2\n",
        "  return (t/1000)\n",
        "\n",
        "print(thicknesspaper(1))\n",
        "print(thicknesspaper(4))\n",
        "print(thicknesspaper(21))"
      ],
      "metadata": {
        "colab": {
          "base_uri": "https://localhost:8080/"
        },
        "id": "FN8Df_tViC7-",
        "outputId": "976c1df3-82cc-4d2c-beac-60ca9bf91b46"
      },
      "execution_count": 8,
      "outputs": [
        {
          "output_type": "stream",
          "name": "stdout",
          "text": [
            "0.001\n",
            "0.008\n",
            "1048.576\n"
          ]
        }
      ]
    },
    {
      "cell_type": "code",
      "source": [
        "'''Create a function that takes a single string as argument and returns an ordered list containing\n",
        "the indices of all capital letters in the string.\n",
        "Examples\n",
        "index_of_caps('eDaBiT') ➞ [1, 3, 5]\n",
        "index_of_caps('eQuINoX') ➞ [1, 3, 4, 6]\n",
        "index_of_caps('determine') ➞ []\n",
        "index_of_caps('STRIKE') ➞ [0, 1, 2, 3, 4, 5]\n",
        "index_of_caps('sUn') ➞ [1]'''\n",
        "\n",
        "def capletter(n):\n",
        "  l = []\n",
        "  for i in range(0, len(n)):\n",
        "    if n[i].isupper():\n",
        "      l.append(i)\n",
        "  return (l)\n",
        "\n",
        "print(capletter(\"eDaBiT\"))\n",
        "print(capletter(\"eQuINoX\"))\n",
        "print(capletter(\"determine\"))"
      ],
      "metadata": {
        "colab": {
          "base_uri": "https://localhost:8080/"
        },
        "id": "VA1Zda8Y3Ff3",
        "outputId": "7113421d-108e-471c-aa69-c76c0b65a003"
      },
      "execution_count": 23,
      "outputs": [
        {
          "output_type": "stream",
          "name": "stdout",
          "text": [
            "[1, 3, 5]\n",
            "[1, 3, 4, 6]\n"
          ]
        },
        {
          "output_type": "execute_result",
          "data": {
            "text/plain": [
              "[]"
            ]
          },
          "metadata": {},
          "execution_count": 23
        }
      ]
    },
    {
      "cell_type": "code",
      "source": [
        "'''Question5\n",
        "Using list comprehensions, create a function that finds all even numbers from 1 to the given\n",
        "number.\n",
        "Examples\n",
        "find_even_nums(8) ➞ [2, 4, 6, 8]\n",
        "find_even_nums(4) ➞ [2, 4]\n",
        "find_even_nums(2) ➞ [2]'''\n",
        "\n",
        "def evennumber(n):\n",
        "  l = []\n",
        "  for i in range(1, n+1):\n",
        "    if i%2 == 0:\n",
        "      l.append(i)\n",
        "  return l\n",
        "\n",
        "print(evennumber(8))\n",
        "print(evennumber(4))\n",
        "print(evennumber(10))\n",
        "\n"
      ],
      "metadata": {
        "colab": {
          "base_uri": "https://localhost:8080/"
        },
        "id": "Atwpa7in8ZXG",
        "outputId": "9624a9be-f572-4105-b316-8d94aff55812"
      },
      "execution_count": 30,
      "outputs": [
        {
          "output_type": "stream",
          "name": "stdout",
          "text": [
            "[2, 4, 6, 8]\n",
            "[2, 4]\n",
            "[2, 4, 6, 8, 10]\n"
          ]
        }
      ]
    },
    {
      "cell_type": "code",
      "source": [],
      "metadata": {
        "id": "1esaNZWGILRO"
      },
      "execution_count": null,
      "outputs": []
    }
  ]
}