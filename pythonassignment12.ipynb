{
  "nbformat": 4,
  "nbformat_minor": 0,
  "metadata": {
    "colab": {
      "provenance": []
    },
    "kernelspec": {
      "name": "python3",
      "display_name": "Python 3"
    },
    "language_info": {
      "name": "python"
    }
  },
  "cells": [
    {
      "cell_type": "code",
      "execution_count": 29,
      "metadata": {
        "colab": {
          "base_uri": "https://localhost:8080/"
        },
        "id": "xEJxf-PPr2DQ",
        "outputId": "6e55c40b-fbec-4d0e-d1d0-f885fc054f55"
      },
      "outputs": [
        {
          "output_type": "stream",
          "name": "stdout",
          "text": [
            "Unique values are  [12, 13, 14, 14, 34, 21, 43, 21, 12, 15, 23, 54, 21, 32]\n"
          ]
        }
      ],
      "source": [
        "# Write a Python program to Extract Unique values dictionary values?\n",
        "n = {\"a\" : [12, 13, 14],\"b\" : [14, 34, 21],\"c\" : [43, 21, 12, 15],\"d\":[23, 54, 21,32]}\n",
        "n1 = []\n",
        "for i in n.values():\n",
        "  for j in i:\n",
        "    n1.append(j)\n",
        "print(\"Unique values are \", n1)\n",
        "  "
      ]
    },
    {
      "cell_type": "code",
      "source": [
        "# Write a Python program to find the sum of all items in a dictionary?\n",
        "p = {\"a\": 12, \"b\": 10, \"c\": 14, \"d\":20}\n",
        "sum = 0\n",
        "for i in p.values():\n",
        "  sum +=i\n",
        "print(\"Sum is \", sum)"
      ],
      "metadata": {
        "colab": {
          "base_uri": "https://localhost:8080/"
        },
        "id": "UF-Y3CgetTHu",
        "outputId": "16c49a71-3a56-4850-d807-1fcdf0c573c8"
      },
      "execution_count": 31,
      "outputs": [
        {
          "output_type": "stream",
          "name": "stdout",
          "text": [
            "Sum is  56\n"
          ]
        }
      ]
    },
    {
      "cell_type": "code",
      "source": [
        "# Write a Python program to Merging two Dictionaries?\n",
        "\n",
        "a = {\"a\" : 10, \"b\" : 20, \"c\" : 30, \"d\" : 40}\n",
        "b = {\"e\" : 45, \"f\" : 50, \"g\" : 55}\n",
        "\n",
        "print({**a, **b})"
      ],
      "metadata": {
        "colab": {
          "base_uri": "https://localhost:8080/"
        },
        "id": "37xQKLTC6HsH",
        "outputId": "afb6b754-d7e1-4302-a73f-652c5b711cf4"
      },
      "execution_count": 4,
      "outputs": [
        {
          "output_type": "stream",
          "name": "stdout",
          "text": [
            "{'a': 10, 'b': 20, 'c': 30, 'd': 40, 'e': 45, 'f': 50, 'g': 55}\n"
          ]
        }
      ]
    },
    {
      "cell_type": "code",
      "source": [
        "# Write a Python program to convert key-values list to flat dictionary?\n",
        "\n",
        "a = {\"day of week\" : [1,2,3,4,5,6,7], \"names\" : [\"monday\", \"tuesday\", \"wednesday\", \"thursday\", \"friday\", \"saturday\", \"sunday\"]}\n",
        "from itertools import product\n",
        "b = dict(zip(a[\"day of week\"], a[\"names\"]))\n",
        "print(b)\n"
      ],
      "metadata": {
        "colab": {
          "base_uri": "https://localhost:8080/"
        },
        "id": "VTZKLU6WrjVI",
        "outputId": "6f1ca538-3605-4788-ac9a-9811f6c89243"
      },
      "execution_count": 6,
      "outputs": [
        {
          "output_type": "stream",
          "name": "stdout",
          "text": [
            "{1: 'monday', 2: 'tuesday', 3: 'wednesday', 4: 'thursday', 5: 'friday', 6: 'saturday', 7: 'sunday'}\n"
          ]
        }
      ]
    },
    {
      "cell_type": "code",
      "source": [
        "# Write a Python program to insertion at the beginning in OrderedDict?\n",
        "\n",
        "from collections import OrderedDict\n",
        "\n",
        "x = OrderedDict([(\"January\" , \"1\"), (\"Feburary\" , \"2\"), (\"March\" , \"3\")])\n",
        "x.update({\"December\" : \"12\"})\n",
        "x.move_to_end(\"December\" , last = False)\n",
        "\n",
        "print(\"Update Dictionary : \", x)\n"
      ],
      "metadata": {
        "colab": {
          "base_uri": "https://localhost:8080/"
        },
        "id": "4Kuv_SFQwg6R",
        "outputId": "2e41254c-e632-4b9c-dbec-c7cfe0ba5026"
      },
      "execution_count": 9,
      "outputs": [
        {
          "output_type": "stream",
          "name": "stdout",
          "text": [
            "Update Dictionary :  OrderedDict([('December', '12'), ('January', '1'), ('Feburary', '2'), ('March', '3')])\n"
          ]
        }
      ]
    },
    {
      "cell_type": "code",
      "source": [
        "# Write a Python program to check order of character in string using OrderedDict()?\n",
        "\n",
        "from collections import OrderedDict\n",
        "def checkorder(input, pattern):\n",
        "  dict = OrderedDict.fromkeys(input)\n",
        "  p_l = 0\n",
        "  for key,value in dict.items():\n",
        "    if key == pattern[p_l]:\n",
        "      p_l += 1\n",
        "    \n",
        "    if p_l == len(pattern):\n",
        "      return \"The order is correct\"\n",
        "  \n",
        "  return \"The order is incorrect\"\n",
        "\n",
        "input = \"This is a book\"\n",
        "pattern = \"is\"\n",
        "print(input)\n",
        "print(pattern)\n",
        "print(checkorder(input, pattern))"
      ],
      "metadata": {
        "colab": {
          "base_uri": "https://localhost:8080/"
        },
        "id": "BDAjOtmGzx62",
        "outputId": "7ff2f8b2-5f79-46a9-b140-201540eb56d7"
      },
      "execution_count": 6,
      "outputs": [
        {
          "output_type": "stream",
          "name": "stdout",
          "text": [
            "This is a book\n",
            "is\n",
            "The order is correct\n"
          ]
        }
      ]
    },
    {
      "cell_type": "code",
      "source": [
        "# Write a Python program to sort Python Dictionaries by Key or Value?\n",
        "\n",
        "def dict():\n",
        "\n",
        "\tk_v = {}\n",
        "\n",
        "\tk_v[5] = 78\n",
        "\tk_v[3] = 23\n",
        "\tk_v[1] = 34\n",
        "\tk_v[4] = 98\n",
        "\tk_v[6] = 20\n",
        "\tk_v[2] = 12\n",
        "\t\n",
        "\tprint(\"key_value\",k_v)\n",
        "\n",
        "\tfor i in sorted(k_v):\n",
        "\t\tprint((i, k_v[i]), end=\" \")\n",
        "\n",
        "dict()\n"
      ],
      "metadata": {
        "colab": {
          "base_uri": "https://localhost:8080/"
        },
        "id": "ZXuXf-Fb7jzh",
        "outputId": "a5c272cb-684b-40db-d269-31868e6f7d8b"
      },
      "execution_count": 10,
      "outputs": [
        {
          "output_type": "stream",
          "name": "stdout",
          "text": [
            "key_value {5: 78, 3: 23, 1: 34, 4: 98, 6: 20, 2: 12}\n",
            "(1, 34) (2, 12) (3, 23) (4, 98) (5, 78) (6, 20) "
          ]
        }
      ]
    },
    {
      "cell_type": "code",
      "source": [],
      "metadata": {
        "id": "-rouPP4JDuZR"
      },
      "execution_count": null,
      "outputs": []
    }
  ]
}