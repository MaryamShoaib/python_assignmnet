{
  "nbformat": 4,
  "nbformat_minor": 0,
  "metadata": {
    "colab": {
      "provenance": []
    },
    "kernelspec": {
      "name": "python3",
      "display_name": "Python 3"
    },
    "language_info": {
      "name": "python"
    }
  },
  "cells": [
    {
      "cell_type": "code",
      "execution_count": null,
      "metadata": {
        "colab": {
          "base_uri": "https://localhost:8080/"
        },
        "id": "ObMvAWcJ2UXM",
        "outputId": "99f68997-d7b7-4968-add6-6e23be6b494b"
      },
      "outputs": [
        {
          "output_type": "stream",
          "name": "stdout",
          "text": [
            "Sum of the list is 55\n"
          ]
        }
      ],
      "source": [
        "# Write a Python program to find sum of elements in list?\n",
        "l = [1,2,3,4,5,6,7,8,9,10]\n",
        "s = 0\n",
        "for i in l:\n",
        "  s += i\n",
        "\n",
        "print(\"Sum of the list is\", s)\n"
      ]
    },
    {
      "cell_type": "code",
      "source": [
        "# Write a Python program to Multiply all numbers in the list?\n",
        "\n",
        "l = [2,4,5,6,8]\n",
        "m = 1\n",
        "for i in l:\n",
        "  m *= i\n",
        "\n",
        "print(\"The product of the list is\",m)"
      ],
      "metadata": {
        "colab": {
          "base_uri": "https://localhost:8080/"
        },
        "id": "AB7Pr1u823s2",
        "outputId": "b2f22159-1a46-4415-f9e4-482ab271fe0a"
      },
      "execution_count": null,
      "outputs": [
        {
          "output_type": "stream",
          "name": "stdout",
          "text": [
            "The product of the list is 1920\n"
          ]
        }
      ]
    },
    {
      "cell_type": "code",
      "source": [
        "# Write a Python program to find smallest number in a list?\n",
        "\n",
        "l = [21,23,43,12]\n",
        "min(l)"
      ],
      "metadata": {
        "colab": {
          "base_uri": "https://localhost:8080/"
        },
        "id": "nefaCGeB4pdO",
        "outputId": "672b5524-845e-43af-a88d-3b901e622d0a"
      },
      "execution_count": null,
      "outputs": [
        {
          "output_type": "execute_result",
          "data": {
            "text/plain": [
              "12"
            ]
          },
          "metadata": {},
          "execution_count": 9
        }
      ]
    },
    {
      "cell_type": "code",
      "source": [
        "# Write a Python program to find largest number in a list?\n",
        "\n",
        "l = [23,45,67,99,43]\n",
        "max(l)"
      ],
      "metadata": {
        "colab": {
          "base_uri": "https://localhost:8080/"
        },
        "id": "uKd77V0d5XQD",
        "outputId": "71140088-77fd-476a-ad7b-03c8d500a79e"
      },
      "execution_count": null,
      "outputs": [
        {
          "output_type": "execute_result",
          "data": {
            "text/plain": [
              "99"
            ]
          },
          "metadata": {},
          "execution_count": 10
        }
      ]
    },
    {
      "cell_type": "code",
      "source": [
        "# Write a Python program to find second largest number in a list?\n",
        "\n",
        "l = [23,43,12,34,76,98]\n",
        "l.sort\n",
        "print(l[-2])\n"
      ],
      "metadata": {
        "colab": {
          "base_uri": "https://localhost:8080/"
        },
        "id": "5MENlxzT5msv",
        "outputId": "240fdb60-5bd6-4ac0-cc07-aa0c22e8815d"
      },
      "execution_count": null,
      "outputs": [
        {
          "output_type": "stream",
          "name": "stdout",
          "text": [
            "76\n"
          ]
        }
      ]
    },
    {
      "cell_type": "code",
      "source": [
        "# Write a Python program to find N largest elements from a list?\n",
        "\n",
        "def Nmaxele(l1, N):\n",
        "\tfl = []\n",
        "\n",
        "\tfor i in range(0, N):\n",
        "\t\tmax1 = 0\n",
        "\t\t\n",
        "\t\tfor j in range(len(l1)):\t\n",
        "\t\t\tif l1[j] > max1:\n",
        "\t\t\t\tmax1 = l1[j];\n",
        "\t\t\t\t\n",
        "\t\tl1.remove(max1);\n",
        "\t\tfl.append(max1)\n",
        "\t\t\n",
        "\tprint(fl)\n",
        "\n",
        "# Driver code\n",
        "l1 = [12, 6, 41, 85, 56, 33, 17, 26, 10]\n",
        "N = 2\n",
        "\n",
        "Nmaxele(l1, N)\n",
        "\n"
      ],
      "metadata": {
        "id": "TF-jsJsI6L_5",
        "colab": {
          "base_uri": "https://localhost:8080/"
        },
        "outputId": "05d89b79-4411-46a7-8b46-57da4b93b497"
      },
      "execution_count": 62,
      "outputs": [
        {
          "output_type": "stream",
          "name": "stdout",
          "text": [
            "[85, 56]\n"
          ]
        }
      ]
    },
    {
      "cell_type": "code",
      "source": [
        "# Write a Python program to print even numbers in a list?\n",
        "\n",
        "def noeven(n):\n",
        "\n",
        "  if n%2 == 0:\n",
        "    return n\n",
        "\n",
        "l = [13,14,1,6,18,15]\n",
        "for i in l:\n",
        "  if noeven(i):\n",
        "    print(i)"
      ],
      "metadata": {
        "colab": {
          "base_uri": "https://localhost:8080/"
        },
        "id": "1Hh4KQWt7XqH",
        "outputId": "f941f811-7349-4b68-c084-b6cc2c9d54a9"
      },
      "execution_count": null,
      "outputs": [
        {
          "output_type": "stream",
          "name": "stdout",
          "text": [
            "14\n",
            "6\n",
            "18\n"
          ]
        }
      ]
    },
    {
      "cell_type": "code",
      "source": [
        "# Write a Python program to print odd numbers in a List?\n",
        "\n",
        "def noodd(n):\n",
        "  if n%3 == 0:\n",
        "    return n\n",
        "\n",
        "l = [2,3,18,16,15,12]\n",
        "for i in l:\n",
        "  if noodd(i):\n",
        "    print(i)"
      ],
      "metadata": {
        "id": "41jN7bTw9SUL",
        "colab": {
          "base_uri": "https://localhost:8080/"
        },
        "outputId": "ab5335c0-9baf-4577-8beb-4999db752ed6"
      },
      "execution_count": 20,
      "outputs": [
        {
          "output_type": "stream",
          "name": "stdout",
          "text": [
            "3\n",
            "18\n",
            "15\n",
            "12\n"
          ]
        }
      ]
    },
    {
      "cell_type": "code",
      "source": [
        "# Write a Python program to Remove empty List from List?\n",
        "\n",
        "l = [2,3,4,5,[],3,5,[], 6, [], 98,65]\n",
        "l1 = []\n",
        "for i in l:\n",
        "    if i != []:\n",
        "      l1.append(i)\n",
        "print(l1)"
      ],
      "metadata": {
        "id": "GtGmWLZu99c6",
        "colab": {
          "base_uri": "https://localhost:8080/"
        },
        "outputId": "6c09884c-4513-43a5-a31c-eb9972f60af2"
      },
      "execution_count": 43,
      "outputs": [
        {
          "output_type": "stream",
          "name": "stdout",
          "text": [
            "[2, 3, 4, 5, 3, 5, 6, 98, 65]\n"
          ]
        }
      ]
    },
    {
      "cell_type": "code",
      "source": [
        "# Write a Python program to Cloning or Copying a list?\n",
        "\n",
        "def copylist(n):\n",
        "  newlist = n\n",
        "  return newlist\n",
        "\n",
        "l = [2,4,6,8,10]\n",
        "print(\"Original list :\" ,l)\n",
        "print(\"Copy list \" ,copylist(l))\n"
      ],
      "metadata": {
        "colab": {
          "base_uri": "https://localhost:8080/"
        },
        "id": "DC68m8P8_90J",
        "outputId": "eaf35b48-69d5-4ba9-cfef-cad880e2695d"
      },
      "execution_count": 45,
      "outputs": [
        {
          "output_type": "stream",
          "name": "stdout",
          "text": [
            "Original list : [2, 4, 6, 8, 10]\n",
            "Copy list  [2, 4, 6, 8, 10]\n"
          ]
        }
      ]
    },
    {
      "cell_type": "code",
      "source": [
        "# Write a Python program to Count occurrences of an element in a list?\n",
        "def countX(lst, x):\n",
        "\tcount = 0\n",
        "\tfor ele in lst:\n",
        "\t\tif (ele == x):\n",
        "\t\t\tcount = count + 1\n",
        "\treturn count\n",
        "\n",
        "\n",
        "# Driver Code\n",
        "lst = [8, 6, 8, 10, 8, 20, 10, 8, 8]\n",
        "x = 8\n",
        "print('{} has occurred {} times'.format(x,countX(lst, x)))\n"
      ],
      "metadata": {
        "colab": {
          "base_uri": "https://localhost:8080/"
        },
        "id": "rc5c3ZJjGC2x",
        "outputId": "99b1daa8-62fb-4b33-ec17-2d7bcb0b81dd"
      },
      "execution_count": 60,
      "outputs": [
        {
          "output_type": "stream",
          "name": "stdout",
          "text": [
            "8 has occurred 5 times\n"
          ]
        }
      ]
    },
    {
      "cell_type": "code",
      "source": [],
      "metadata": {
        "id": "0gq5ppGdHBlh"
      },
      "execution_count": null,
      "outputs": []
    }
  ]
}