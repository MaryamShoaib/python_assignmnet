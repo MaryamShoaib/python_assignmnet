{
 "cells": [
  {
   "cell_type": "code",
   "execution_count": null,
   "id": "4279be6b",
   "metadata": {},
   "outputs": [],
   "source": [
    "#Write a Python Program to Find the Factorial of a Number?\n",
    "\n",
    "f = 1\n",
    "n = int(input(\"Enter a number here: \"))\n",
    "\n",
    "if n<0:\n",
    "    print(\"Non factorial\")\n",
    "    \n",
    "elif n==0:\n",
    "    pritn(\"Factorial is 1\")\n",
    "    \n",
    "else:\n",
    "    for i in range(1, n+1):\n",
    "        f = f*i\n",
    "    print(\"The factorial of\",n,\"is\",f)\n",
    "        "
   ]
  },
  {
   "cell_type": "code",
   "execution_count": 14,
   "id": "71d9da57",
   "metadata": {},
   "outputs": [
    {
     "name": "stdout",
     "output_type": "stream",
     "text": [
      "Enter a number here: 3\n",
      "3\n",
      "6\n",
      "9\n",
      "12\n",
      "15\n",
      "18\n",
      "21\n",
      "24\n",
      "27\n",
      "30\n"
     ]
    }
   ],
   "source": [
    "#Write a Python Program to Display the multiplication Table?\n",
    "\n",
    "n= int(input(\"Enter a number here: \"))\n",
    "for i in range(1,11):\n",
    "    print(n*i)"
   ]
  },
  {
   "cell_type": "code",
   "execution_count": 16,
   "id": "b356038f",
   "metadata": {},
   "outputs": [
    {
     "name": "stdout",
     "output_type": "stream",
     "text": [
      "Enter a number here: 10\n",
      "1 0\n",
      "1 1\n",
      "2 2\n",
      "3 3\n",
      "5 4\n",
      "8 5\n",
      "13 6\n",
      "21 7\n",
      "34 8\n",
      "55 9\n"
     ]
    }
   ],
   "source": [
    "#Write a Python Program to Print the Fibonacci sequence?\n",
    "n=int(input(\"Enter a number here: \"))\n",
    "a=1\n",
    "b=1\n",
    "for i in range(n):\n",
    "    print(a,i)\n",
    "    a,b=b,a+b"
   ]
  },
  {
   "cell_type": "code",
   "execution_count": 11,
   "id": "7cb67862",
   "metadata": {},
   "outputs": [
    {
     "name": "stdout",
     "output_type": "stream",
     "text": [
      "Enter a number: 153\n",
      "153 is an Armstrong number\n"
     ]
    }
   ],
   "source": [
    "# Write a Python Program to Check Armstrong Number?\n",
    "num = int(input(\"Enter a number: \"))\n",
    "sum = 0\n",
    "temp = num\n",
    "while temp > 0:\n",
    "   digit = temp % 10\n",
    "   sum += digit ** 3\n",
    "   temp //= 10\n",
    "if num == sum:\n",
    "   print(num,\"is an Armstrong number\")\n",
    "else:\n",
    "   print(num,\"is not an Armstrong number\")"
   ]
  },
  {
   "cell_type": "code",
   "execution_count": 16,
   "id": "4eb4380c",
   "metadata": {},
   "outputs": [
    {
     "name": "stdout",
     "output_type": "stream",
     "text": [
      "370\n",
      "371\n",
      "407\n",
      "1634\n"
     ]
    }
   ],
   "source": [
    "# Write a Python Program to Find Armstrong Number in an Interval?\n",
    "\n",
    "lower = 100\n",
    "upper = 2000\n",
    "\n",
    "for num in range(lower, upper + 1):\n",
    "\n",
    "   # order of number\n",
    "   order = len(str(num))\n",
    "    \n",
    "   # initialize sum\n",
    "   sum = 0\n",
    "\n",
    "   temp = num\n",
    "   while temp > 0:\n",
    "       digit = temp % 10\n",
    "       sum += digit ** order\n",
    "       temp //= 10\n",
    "\n",
    "   if num == sum:\n",
    "       print(num)\n",
    "\n",
    "lower = 200\n",
    "upper = 2000\n",
    "\n",
    "for num in range(200, 2001):\n",
    "\n",
    "   order = len(str(num))\n",
    "\n",
    "   sum = 0\n",
    "\n",
    "   temp = num\n",
    "   while temp > 0:\n",
    "       digit = temp % 10\n",
    "       sum += digit ** order\n",
    "       temp //= 10\n",
    "\n",
    "   if num == sum:\n",
    "       print(num)"
   ]
  },
  {
   "cell_type": "code",
   "execution_count": 19,
   "id": "7dd9f01b",
   "metadata": {},
   "outputs": [
    {
     "name": "stdout",
     "output_type": "stream",
     "text": [
      "Enter a positive number: 10\n",
      "55\n"
     ]
    }
   ],
   "source": [
    "# Write a Python Program to Find the Sum of Natural Numbers?\n",
    "n =int(input(\"Enter a positive number: \"))\n",
    "sum = 0\n",
    "if n>0:\n",
    "    for i in range(0,n+1):\n",
    "        sum+=i\n",
    "    print(sum)\n",
    "    \n",
    "else:\n",
    "    print(\"Please enter a positive number\")\n",
    "        "
   ]
  }
 ],
 "metadata": {
  "kernelspec": {
   "display_name": "Python 3 (ipykernel)",
   "language": "python",
   "name": "python3"
  },
  "language_info": {
   "codemirror_mode": {
    "name": "ipython",
    "version": 3
   },
   "file_extension": ".py",
   "mimetype": "text/x-python",
   "name": "python",
   "nbconvert_exporter": "python",
   "pygments_lexer": "ipython3",
   "version": "3.9.12"
  }
 },
 "nbformat": 4,
 "nbformat_minor": 5
}
