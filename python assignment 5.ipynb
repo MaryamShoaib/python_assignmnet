{
 "cells": [
  {
   "cell_type": "code",
   "execution_count": 1,
   "id": "3e75bd7a",
   "metadata": {},
   "outputs": [],
   "source": [
    "# Write a Python Program to Find LCM?\n",
    "\n",
    "def compute_lcm(x,y):\n",
    "    if x>y:\n",
    "        greater = x\n",
    "    else:\n",
    "        greater = y\n",
    "    while(True):\n",
    "        if (greater%x == 0) and (greater%y ==0):\n",
    "            lcm=greater\n",
    "            break\n",
    "        greater+=1\n",
    "    return lcm"
   ]
  },
  {
   "cell_type": "code",
   "execution_count": 2,
   "id": "240d04b5",
   "metadata": {},
   "outputs": [
    {
     "data": {
      "text/plain": [
       "48"
      ]
     },
     "execution_count": 2,
     "metadata": {},
     "output_type": "execute_result"
    }
   ],
   "source": [
    "compute_lcm(12,16)"
   ]
  },
  {
   "cell_type": "code",
   "execution_count": 6,
   "id": "77d0ec58",
   "metadata": {},
   "outputs": [],
   "source": [
    "# Write a Python Program to Find HCF?\n",
    "\n",
    "def compute_hcf(x,y):\n",
    "    if x>y:\n",
    "        lower = y\n",
    "    else:\n",
    "        lower = x\n",
    "    for i in range(1, lower+1):\n",
    "        if (x%i == 0) and (y%i == 0):\n",
    "            hcf=i\n",
    "\n",
    "    return hcf\n",
    "    "
   ]
  },
  {
   "cell_type": "code",
   "execution_count": 7,
   "id": "2a6ffbe0",
   "metadata": {},
   "outputs": [
    {
     "data": {
      "text/plain": [
       "4"
      ]
     },
     "execution_count": 7,
     "metadata": {},
     "output_type": "execute_result"
    }
   ],
   "source": [
    "compute_hcf(12,16)"
   ]
  },
  {
   "cell_type": "code",
   "execution_count": 9,
   "id": "6f1f8512",
   "metadata": {},
   "outputs": [
    {
     "name": "stdout",
     "output_type": "stream",
     "text": [
      "Enter a number here: 123\n",
      "The decimal value of 123 is:\n",
      "0b1111011 in binary.\n",
      "0o173 in octal.\n",
      "0x7b in hexadecimal\n"
     ]
    }
   ],
   "source": [
    "# Write a Python Program to Convert Decimal to Binary, Octal and Hexadecimal?\n",
    "n = int(input(\"Enter a number here: \"))\n",
    "\n",
    "print(\"The decimal value of\", n, \"is:\")\n",
    "print(bin(n), \"in binary.\")\n",
    "print(oct(n), \"in octal.\")\n",
    "print(hex(n), \"in hexadecimal\")"
   ]
  },
  {
   "cell_type": "code",
   "execution_count": 12,
   "id": "dbfcea46",
   "metadata": {},
   "outputs": [
    {
     "name": "stdout",
     "output_type": "stream",
     "text": [
      "Enter a character: a\n",
      "The ASCII value of a is 97\n"
     ]
    }
   ],
   "source": [
    "# Write a Python Program To Find ASCII value of a character?\n",
    "n = input(\"Enter a character: \")\n",
    "\n",
    "print(\"The ASCII value of\",n,\"is\", ord(n))"
   ]
  },
  {
   "cell_type": "code",
   "execution_count": 20,
   "id": "10197e36",
   "metadata": {},
   "outputs": [
    {
     "name": "stdout",
     "output_type": "stream",
     "text": [
      "1.Add\n",
      "2.Subtract\n",
      "3.Multiply\n",
      "4.Divide\n",
      "Enter 1/2/3/4:3\n",
      "Enter a number here: 10\n",
      "Enter a number here: 2\n",
      "10.0 * 2.0 = 20.0\n",
      "Do you want to do another calculation:(yes/no): yes\n",
      "Enter 1/2/3/4:4\n",
      "Enter a number here: 10\n",
      "Enter a number here: 2\n",
      "10.0 / 2.0 = 5.0\n",
      "Do you want to do another calculation:(yes/no): yes\n",
      "Enter 1/2/3/4:10\n",
      "Do you want to do another calculation:(yes/no): 10\n",
      "Enter 1/2/3/4:2\n",
      "Enter a number here: 10\n",
      "Enter a number here: 2\n",
      "10.0 - 2.0 = 8.0\n",
      "Do you want to do another calculation:(yes/no): yes\n",
      "Enter 1/2/3/4:10\n",
      "Do you want to do another calculation:(yes/no): yes\n",
      "Enter 1/2/3/4:1\n",
      "Enter a number here: 10\n",
      "Enter a number here: 2\n",
      "10.0 + 2.0 = 12.0\n",
      "Do you want to do another calculation:(yes/no): no\n"
     ]
    }
   ],
   "source": [
    "# Write a Python Program to Make a Simple Calculator with 4 basic mathematical operations?\n",
    "\n",
    "def add(x,y):\n",
    "    return(x+y)\n",
    "def subtract(x,y):\n",
    "    return(x-y)\n",
    "def multiply(x,y):\n",
    "    return(x*y)\n",
    "def divide(x,y):\n",
    "    return(x/y)\n",
    "\n",
    "print(\"1.Add\")\n",
    "print(\"2.Subtract\")\n",
    "print(\"3.Multiply\")\n",
    "print(\"4.Divide\")\n",
    "\n",
    "while True:\n",
    "    c = input(\"Enter 1/2/3/4:\")\n",
    "    if c in (\"1\", \"2\", \"3\", \"4\"):\n",
    "        n1= float(input(\"Enter a number here: \"))\n",
    "        n2= float(input(\"Enter a number here: \"))\n",
    "    if c == \"1\":\n",
    "        print(n1, \"+\", n2, \"=\", add(n1, n2))\n",
    "    elif c == \"2\":\n",
    "        print(n1, \"-\", n2, \"=\" ,subtract(n1,n2))\n",
    "    elif c==\"3\":\n",
    "        print(n1, \"*\", n2, \"=\",multiply(n1,n2))\n",
    "    elif c == \"4\":\n",
    "        print(n1, \"/\", n2,  \"=\", divide(n1,n2))\n",
    "    n_c = input(\"Do you want to do another calculation:(yes/no): \")\n",
    "    if n_c == \"no\":\n",
    "        break\n",
    "else:\n",
    "    print(\"Invalid input\")\n",
    "    "
   ]
  },
  {
   "cell_type": "code",
   "execution_count": null,
   "id": "bab93f33",
   "metadata": {},
   "outputs": [],
   "source": []
  }
 ],
 "metadata": {
  "kernelspec": {
   "display_name": "Python 3 (ipykernel)",
   "language": "python",
   "name": "python3"
  },
  "language_info": {
   "codemirror_mode": {
    "name": "ipython",
    "version": 3
   },
   "file_extension": ".py",
   "mimetype": "text/x-python",
   "name": "python",
   "nbconvert_exporter": "python",
   "pygments_lexer": "ipython3",
   "version": "3.9.12"
  }
 },
 "nbformat": 4,
 "nbformat_minor": 5
}
