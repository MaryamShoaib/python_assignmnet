{
  "nbformat": 4,
  "nbformat_minor": 0,
  "metadata": {
    "colab": {
      "provenance": []
    },
    "kernelspec": {
      "name": "python3",
      "display_name": "Python 3"
    },
    "language_info": {
      "name": "python"
    }
  },
  "cells": [
    {
      "cell_type": "code",
      "source": [
        "'''Question1\n",
        "Create a function that takes three parameters where:\n",
        " x is the start of the range (inclusive).\n",
        " y is the end of the range (inclusive).\n",
        " n is the divisor to be checked against.\n",
        "Return an ordered list with numbers in the range that are divisible by the third parameter n.\n",
        "Return an empty list if there are no numbers that are divisible by n.\n",
        "Examples\n",
        "list_operation(1, 10, 3) ➞ [3, 6, 9]\n",
        "list_operation(7, 9, 2) ➞ [8]\n",
        "list_operation(15, 20, 7) ➞ []'''\n",
        "\n",
        "def list_operation(s,e,k):\n",
        "  l = []\n",
        "  for i in range(s, e+1):\n",
        "    if i%k == 0:\n",
        "      l.append(i)\n",
        "  return l\n",
        "\n",
        "print(list_operation(1,10,3))\n",
        "print(list_operation(7, 9, 2))\n",
        "print(list_operation(15, 20, 7))"
      ],
      "metadata": {
        "colab": {
          "base_uri": "https://localhost:8080/"
        },
        "id": "H8B35IAbfA_R",
        "outputId": "683fe883-4b50-4243-d8da-3ae05159c8bd"
      },
      "execution_count": null,
      "outputs": [
        {
          "output_type": "stream",
          "name": "stdout",
          "text": [
            "[3, 6, 9]\n",
            "[8]\n",
            "[]\n"
          ]
        }
      ]
    },
    {
      "cell_type": "code",
      "source": [
        "'''Question2\n",
        "Create a function that takes in two lists and returns True if the second list follows the first list\n",
        "by one element, and False otherwise. In other words, determine if the second list is the first\n",
        "list shifted to the right by 1.\n",
        "Examples\n",
        "simon_says([1, 2], [5, 1]) ➞ True\n",
        "simon_says([1, 2], [5, 5]) ➞ False\n",
        "simon_says([1, 2, 3, 4, 5], [0, 1, 2, 3, 4]) ➞ True\n",
        "simon_says([1, 2, 3, 4, 5], [5, 5, 1, 2, 3]) ➞ False\n",
        "Notes\n",
        " Both input lists will be of the same length, and will have a minimum length of 2.\n",
        " The values of the 0-indexed element in the second list and the n-1th indexed element\n",
        "in the first list do not matter.'''\n",
        "\n",
        "def simon_says(l1, l2):\n",
        "  if l1[0:len(l1)-1] == l2[1:len(l2)]:\n",
        "    return True\n",
        "  return False\n",
        "\n",
        "print(simon_says([1, 2], [5, 1]))\n",
        "print(simon_says([1, 2], [5, 5]))\n",
        "print(simon_says([1, 2, 3, 4, 5], [0, 1, 2, 3, 4]))"
      ],
      "metadata": {
        "colab": {
          "base_uri": "https://localhost:8080/"
        },
        "id": "M-56ZLlCl2zX",
        "outputId": "a22e5353-eb01-418f-b006-09976af2a32f"
      },
      "execution_count": null,
      "outputs": [
        {
          "output_type": "stream",
          "name": "stdout",
          "text": [
            "True\n",
            "False\n",
            "True\n"
          ]
        }
      ]
    },
    {
      "cell_type": "code",
      "source": [
        "\"\"\"Question3\n",
        "A group of friends have decided to start a secret society. The name will be the first letter of\n",
        "each of their names, sorted in alphabetical order.\n",
        "Create a function that takes in a list of names and returns the name of the secret society.\n",
        "\n",
        "Examples\n",
        "society_name([\"Adam\", \"Sarah\", \"Malcolm\"]) ➞ \"AMS\"\n",
        "society_name([\"Harry\", \"Newt\", \"Luna\", \"Cho\"]) ➞ \"CHLN\"\n",
        "society_name(['Phoebe', 'Chandler', 'Rachel', 'Ross', 'Monica', 'Joey'])\"\"\"\n",
        "\n",
        "def society_name(n):\n",
        "  return \"\".join([i[0] for i in sorted(n)])\n",
        "  \n",
        "\n",
        "\n",
        "print(society_name(['Adam', 'Sarah', \"Malcolm\"]))\n",
        "print(society_name([\"Harry\", \"Newt\", \"Luna\", \"Cho\"]))\n",
        "print(society_name(['Phoebe', 'Chandler', 'Rachel', 'Ross', 'Monica', 'Joey']))"
      ],
      "metadata": {
        "colab": {
          "base_uri": "https://localhost:8080/"
        },
        "id": "oktT2KbIqe0W",
        "outputId": "b0ef9385-5a56-4bb8-bde9-e801a45cf5f2"
      },
      "execution_count": 10,
      "outputs": [
        {
          "output_type": "stream",
          "name": "stdout",
          "text": [
            "AMS\n",
            "CHLN\n",
            "CJMPRR\n"
          ]
        }
      ]
    },
    {
      "cell_type": "code",
      "source": [
        "'''Question4\n",
        "An isogram is a word that has no duplicate letters. Create a function that takes a string and\n",
        "returns either True or False depending on whether or not it's an 'isogram'.\n",
        "Examples\n",
        "is_isogram('Algorism') ➞ True\n",
        "is_isogram('PasSword') ➞ False\n",
        "# Not case sensitive.\n",
        "is_isogram('Consecutive') ➞ False\n",
        "Notes\n",
        " Ignore letter case (should not be case sensitive).\n",
        " All test cases contain valid one word strings.'''\n",
        "\n",
        "def is_isogram(n):\n",
        "  n = n.lower()\n",
        "  l = []\n",
        "  for i in n:\n",
        "    if i.isalpha():\n",
        "      if i in l:\n",
        "        return False\n",
        "      l.append(i)\n",
        "  return True\n",
        "\n",
        "print(is_isogram(\"Algorism\"))\n",
        "print(is_isogram(\"PasSword\"))\n",
        "print(is_isogram(\"Consecutive\"))"
      ],
      "metadata": {
        "id": "ps1rX-ugswi_",
        "colab": {
          "base_uri": "https://localhost:8080/"
        },
        "outputId": "82385fef-0fe2-49c6-c8b3-6de23ba161bb"
      },
      "execution_count": 18,
      "outputs": [
        {
          "output_type": "stream",
          "name": "stdout",
          "text": [
            "True\n",
            "False\n",
            "False\n"
          ]
        }
      ]
    },
    {
      "cell_type": "code",
      "source": [
        "'''Question5\n",
        "Create a function that takes a string and returns True or False, depending on whether the\n",
        "characters are in order or not.\n",
        "Examples\n",
        "is_in_order('abc') ➞ True\n",
        "is_in_order('edabit') ➞ False\n",
        "is_in_order('123') ➞ True\n",
        "is_in_order('xyzz') ➞ True\n",
        "Notes\n",
        "You don't have to handle empty strings.'''\n",
        "\n",
        "def is_in_order(n):\n",
        "  n1 = \"\".join(sorted(n))\n",
        "  if n == n1:\n",
        "    return True\n",
        "  else:\n",
        "    return False\n",
        "\n",
        "print(is_in_order(\"abc\"))\n",
        "print(is_in_order(\"edabit\"))\n",
        "print(is_in_order(\"123\"))\n",
        "print(is_in_order(\"xyzz\"))"
      ],
      "metadata": {
        "colab": {
          "base_uri": "https://localhost:8080/"
        },
        "id": "wej-quM65bIL",
        "outputId": "0aaa9e36-2f6a-43f9-b924-784961c73557"
      },
      "execution_count": 26,
      "outputs": [
        {
          "output_type": "stream",
          "name": "stdout",
          "text": [
            "True\n",
            "False\n",
            "True\n",
            "True\n"
          ]
        }
      ]
    },
    {
      "cell_type": "code",
      "source": [],
      "metadata": {
        "id": "PryFpiv1_tC_"
      },
      "execution_count": null,
      "outputs": []
    }
  ]
}