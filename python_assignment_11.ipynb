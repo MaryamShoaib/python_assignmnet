{
  "nbformat": 4,
  "nbformat_minor": 0,
  "metadata": {
    "colab": {
      "provenance": []
    },
    "kernelspec": {
      "name": "python3",
      "display_name": "Python 3"
    },
    "language_info": {
      "name": "python"
    }
  },
  "cells": [
    {
      "cell_type": "code",
      "execution_count": 8,
      "metadata": {
        "colab": {
          "base_uri": "https://localhost:8080/"
        },
        "id": "s8hkBk5Gnr47",
        "outputId": "db53ab0d-a7c6-4b94-f6f6-3a26a717919b"
      },
      "outputs": [
        {
          "output_type": "stream",
          "name": "stdout",
          "text": [
            "Enter a sentece: this is a book\n",
            "['this', 'book']\n"
          ]
        }
      ],
      "source": [
        "# Write a Python program to find words which are greater than given length k?\n",
        "\n",
        "def findwords(list, k):\n",
        "  l1 = list.split(\" \")\n",
        "  l2 = []\n",
        "  for i in l1:\n",
        "    if (len(i)) > k:\n",
        "      l2.append(i)\n",
        "  return l2\n",
        "\n",
        "list = input(\"Enter a sentece: \")\n",
        "k = 3\n",
        "print(findwords(list,k))"
      ]
    },
    {
      "cell_type": "code",
      "source": [
        "# Write a Python program for removing i-th character from a string?\n",
        "\n",
        "def removechar(char, i):\n",
        "  x = char[ :i]\n",
        "  y = char[i+1: ]\n",
        "  return x+y\n",
        "\n",
        "n = input(\"Enter a word here :\")\n",
        "i = 2\n",
        "print(removechar(n,i))"
      ],
      "metadata": {
        "colab": {
          "base_uri": "https://localhost:8080/"
        },
        "id": "oph_bS-1qugW",
        "outputId": "b7544cb4-9b70-4bb2-a1ef-7dabbb9ba316"
      },
      "execution_count": 11,
      "outputs": [
        {
          "output_type": "stream",
          "name": "stdout",
          "text": [
            "Enter a word here :hello\n",
            "helo\n"
          ]
        }
      ]
    },
    {
      "cell_type": "code",
      "source": [
        "# Write a Python program to split and join a string?\n",
        "\n",
        "def splitjoin(n, i):\n",
        "  n1 = n.split(\" \")\n",
        "  n2 = \"-\".join(n1)\n",
        "  return n2\n",
        "\n",
        "n = input(\"Enter a sentence here: \")\n",
        "print(splitjoin(n, i))"
      ],
      "metadata": {
        "colab": {
          "base_uri": "https://localhost:8080/"
        },
        "id": "dtuZmNuBx6Uw",
        "outputId": "ec483277-51c7-40fc-fed9-9a4259b8a238"
      },
      "execution_count": 12,
      "outputs": [
        {
          "output_type": "stream",
          "name": "stdout",
          "text": [
            "Enter a sentence here: hi how are you?\n",
            "hi-how-are-you?\n"
          ]
        }
      ]
    },
    {
      "cell_type": "code",
      "source": [
        "# Write a Python to check if a given string is binary string or not?\n",
        "def binaryornot(n):\n",
        "  b = {\"0\", \"1\"}\n",
        "  x = set(n)\n",
        "\n",
        "  if x ==b or x ==\"0\" or x ==\"1\":\n",
        "    print(\"It is a binary string\")\n",
        "  else:\n",
        "    print(\"It is not a binary string\")\n",
        "\n",
        "n = \"10101001\"\n",
        "binaryornot(n)\n",
        "\n"
      ],
      "metadata": {
        "colab": {
          "base_uri": "https://localhost:8080/"
        },
        "id": "cl5-E08935c3",
        "outputId": "a7892098-d38d-4944-814e-4642e4154ad0"
      },
      "execution_count": 17,
      "outputs": [
        {
          "output_type": "stream",
          "name": "stdout",
          "text": [
            "It is a binary string\n"
          ]
        }
      ]
    },
    {
      "cell_type": "code",
      "source": [
        "# Write a Python program to find uncommon words from two Strings?\n",
        "\n",
        "def uncoomonwords(a, b):\n",
        "  count = {}\n",
        "  for words in a.split():\n",
        "    count[words] = count.get(words, 0) + 1\n",
        "\n",
        "  for words in b.split():\n",
        "    count[words] = count.get(words, 0) + 1\n",
        "\n",
        "  return [words for words in count if count[words] == 1]\n",
        "    \n",
        "\n",
        "a = \"python basic\"\n",
        "b = \"this is python basic assignment\"\n",
        "\n",
        "uncoomonwords(a , b)\n",
        "\n"
      ],
      "metadata": {
        "colab": {
          "base_uri": "https://localhost:8080/"
        },
        "id": "tG2Zecgm9Hue",
        "outputId": "15f3ba20-7e4e-470b-a245-43f6477307d1"
      },
      "execution_count": 29,
      "outputs": [
        {
          "output_type": "execute_result",
          "data": {
            "text/plain": [
              "['this', 'is', 'assignment']"
            ]
          },
          "metadata": {},
          "execution_count": 29
        }
      ]
    },
    {
      "cell_type": "code",
      "source": [
        "# Write a Python to find all duplicate characters in string?\n",
        "\n",
        "def duplicatecharacter(n):\n",
        "  n1 = []\n",
        "  for i in n:\n",
        "    if i not in n1 and n.count(i)>1:\n",
        "      n1.append(i)\n",
        "  return (\" \".join(n1))\n",
        "\n",
        "n = input(\"Enter a word here: \")\n",
        "duplicatecharacter(n)"
      ],
      "metadata": {
        "colab": {
          "base_uri": "https://localhost:8080/",
          "height": 52
        },
        "id": "Zkn7vEgkLp7I",
        "outputId": "1ac537cf-8bc2-411b-8680-955a9d13c298"
      },
      "execution_count": 2,
      "outputs": [
        {
          "name": "stdout",
          "output_type": "stream",
          "text": [
            "Enter a word here: hello\n"
          ]
        },
        {
          "output_type": "execute_result",
          "data": {
            "text/plain": [
              "'l'"
            ],
            "application/vnd.google.colaboratory.intrinsic+json": {
              "type": "string"
            }
          },
          "metadata": {},
          "execution_count": 2
        }
      ]
    },
    {
      "cell_type": "code",
      "source": [
        "# Write a Python Program to check if a string contains any special character?\n",
        "\n",
        "def specialcharacter(n):\n",
        "\n",
        "  s = \"!@$%#^*()_-+={}[]\\|:;\"''\"/?.,`~\"\n",
        "  c = 0\n",
        "  for i in n:\n",
        "    if i in s:\n",
        "      c += 1\n",
        "  return c\n",
        "\n",
        "n = input(\"Enter a sentence here: \")\n",
        "if specialcharacter(n)>=1:\n",
        "  print(\"String has special characters\")\n",
        "\n",
        "else:\n",
        "  print(\"String has no special character\")\n",
        "\n"
      ],
      "metadata": {
        "colab": {
          "base_uri": "https://localhost:8080/"
        },
        "id": "w9fUe4T-Cuw3",
        "outputId": "f42bcba5-6788-43de-d61c-cd605ebec1e0"
      },
      "execution_count": 8,
      "outputs": [
        {
          "output_type": "stream",
          "name": "stdout",
          "text": [
            "Enter a sentence here: Hello! How are you\n",
            "String has special characters\n"
          ]
        }
      ]
    },
    {
      "cell_type": "code",
      "source": [],
      "metadata": {
        "id": "JJT0N4I7FUIv"
      },
      "execution_count": null,
      "outputs": []
    }
  ]
}