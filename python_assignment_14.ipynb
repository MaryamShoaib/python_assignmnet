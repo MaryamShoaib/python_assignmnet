{
  "nbformat": 4,
  "nbformat_minor": 0,
  "metadata": {
    "colab": {
      "provenance": []
    },
    "kernelspec": {
      "name": "python3",
      "display_name": "Python 3"
    },
    "language_info": {
      "name": "python"
    }
  },
  "cells": [
    {
      "cell_type": "code",
      "execution_count": 2,
      "metadata": {
        "colab": {
          "base_uri": "https://localhost:8080/"
        },
        "id": "9aCKyamgdaaB",
        "outputId": "44f0d1e4-4ade-4866-8f20-d38218aca815"
      },
      "outputs": [
        {
          "output_type": "stream",
          "name": "stdout",
          "text": [
            "0\n",
            "7\n",
            "14\n",
            "21\n",
            "28\n",
            "35\n",
            "42\n",
            "49\n",
            "56\n",
            "63\n",
            "70\n",
            "77\n",
            "84\n",
            "91\n",
            "98\n"
          ]
        }
      ],
      "source": [
        "\"\"\"Question 1:\n",
        "Define a class with a generator which can iterate the numbers, which are divisible by\n",
        "7, between a given range 0 and n.\"\"\"\n",
        "\n",
        "def dvsev(n):\n",
        "  for i in range(0,n):\n",
        "    if i%7 == 0:\n",
        "      yield i\n",
        "\n",
        "    else:\n",
        "      continue\n",
        "\n",
        "for i in dvsev(100):\n",
        "  print(i)\n",
        "\n"
      ]
    },
    {
      "cell_type": "code",
      "source": [
        "\"\"\"Question 2:\n",
        "Write a program to compute the frequency of the words from the input. The output\n",
        "should output after sorting the key alphanumerically.\n",
        "Suppose the following input is supplied to the program:\n",
        "New to Python or choosing between Python 2 and Python 3? Read Python 2 or\n",
        "Python 3.\n",
        "Then, the output should be:\n",
        "2:2\n",
        "3.:1\n",
        "3?:1\n",
        "New:1\n",
        "Python:5\n",
        "Read:1\n",
        "and:1\n",
        "between:1\n",
        "choosing:1\n",
        "or:2\n",
        "to:1\"\"\"\n",
        "\n",
        "ss = input().split()\n",
        "word = sorted(set(ss))    \n",
        "\n",
        "for i in word:\n",
        "    print(\"{0}:{1}\".format(i,ss.count(i)))"
      ],
      "metadata": {
        "colab": {
          "base_uri": "https://localhost:8080/"
        },
        "id": "cNSYHF-kKTab",
        "outputId": "fc99363f-dbe1-49ce-aed5-ddadcf921342"
      },
      "execution_count": 2,
      "outputs": [
        {
          "output_type": "stream",
          "name": "stdout",
          "text": [
            "New to Python or choosing between Python 2 and Python 3? Read Python 2 or Python 3.\n",
            "2:2\n",
            "3.:1\n",
            "3?:1\n",
            "New:1\n",
            "Python:5\n",
            "Read:1\n",
            "and:1\n",
            "between:1\n",
            "choosing:1\n",
            "or:2\n",
            "to:1\n"
          ]
        }
      ]
    },
    {
      "cell_type": "code",
      "source": [
        "\"\"\"Define a class Person and its two child classes: Male and Female. All classes have a method \"getGender\" which can print \"Male\" for Male class and \"Female\" for Female class.\"\"\"\n",
        "class Person(object):\n",
        "  def __init__(self):\n",
        "    self.gender = \"unknown\"\n",
        "\n",
        "  def getGender(self):\n",
        "\t  print(self.gender)\n",
        "\n",
        "class Male(Person):\n",
        "    def __init__(self):\n",
        "\t    self.gender = \"Male\"\n",
        "\n",
        "class Female(Person):\n",
        "    def __init__(self):\n",
        "\t    self.gender = \"Female\"\n",
        "\n",
        "nancy = Female()\n",
        "jim = Male()\n",
        "nancy.getGender()\n",
        "jim.getGender()\n",
        "\n",
        "\n",
        "\n",
        "\n"
      ],
      "metadata": {
        "colab": {
          "base_uri": "https://localhost:8080/"
        },
        "id": "oTIUBhAbI4s7",
        "outputId": "e2f77767-0a91-46eb-c6e0-7448b4aa2fa7"
      },
      "execution_count": 5,
      "outputs": [
        {
          "output_type": "stream",
          "name": "stdout",
          "text": [
            "Female\n",
            "Male\n"
          ]
        }
      ]
    },
    {
      "cell_type": "code",
      "source": [
        "\"\"\"Question 4:\n",
        "Please write a program to generate all sentences where subject is in [\"I\", \"You\"] and\n",
        "verb is in [\"Play\", \"Love\"] and the object is in [\"Hockey\", \"Football\"].\"\"\"\n",
        "\n",
        "s = [\"I\", \"You\"]\n",
        "v = [\"play\", \"Love\"]\n",
        "o = [\"hockey\", \"football\"]\n",
        "\n",
        "for i in range(len(s)):\n",
        "  for j in range(len(v)):\n",
        "    for p in range(len(o)):\n",
        "      print(s[i], v[j], o[p])\n"
      ],
      "metadata": {
        "colab": {
          "base_uri": "https://localhost:8080/"
        },
        "id": "BGUp0iAVOrom",
        "outputId": "c38695dc-a1fe-47b0-d9af-18ded8931116"
      },
      "execution_count": 8,
      "outputs": [
        {
          "output_type": "stream",
          "name": "stdout",
          "text": [
            "I play hockey\n",
            "I play football\n",
            "I Love hockey\n",
            "I Love football\n",
            "You play hockey\n",
            "You play football\n",
            "You Love hockey\n",
            "You Love football\n"
          ]
        }
      ]
    },
    {
      "cell_type": "code",
      "source": [
        "\"\"\"Question 5:\n",
        "Please write a program to compress and decompress the string \"hello world!hello\n",
        "world!hello world!hello world!\".\"\"\"\n",
        "\n",
        "import zlib\n",
        "m = \"hello world!helo world!hello world!hello world!\"\n",
        "n = bytes(m, 'utf-8')\n",
        "x = zlib.compress(n)\n",
        "print(x)\n",
        "y = zlib.decompress(x)\n",
        "print(y)"
      ],
      "metadata": {
        "colab": {
          "base_uri": "https://localhost:8080/"
        },
        "id": "M3j88itDdkmB",
        "outputId": "98c3113e-46b3-4c08-8e60-efa4d5538eea"
      },
      "execution_count": 15,
      "outputs": [
        {
          "output_type": "stream",
          "name": "stdout",
          "text": [
            "b'x\\x9c\\xcbH\\xcd\\xc9\\xc9W(\\xcf/\\xcaIQ\\xccHEfbe\\x03\\x00\\xa9\\xb8\\x11\\x89'\n",
            "b'hello world!helo world!hello world!hello world!'\n"
          ]
        }
      ]
    },
    {
      "cell_type": "code",
      "source": [
        "\"\"\"Question 6:\n",
        "Please write a binary search function which searches an item in a sorted list. The\n",
        "function should return the index of element to be searched in the list.\"\"\"\n",
        "def binary_search_Ascending(array, target):\n",
        "    lower = 0\n",
        "    upper = len(array)\n",
        "    print('Array Length:',upper)\n",
        "    while lower < upper:\n",
        "        x = (lower + upper) // 2\n",
        "        print('Middle Value:',x)\n",
        "        value = array[x]\n",
        "        if target == value:\n",
        "            return x\n",
        "        elif target > value:\n",
        "            lower = x\n",
        "        elif target < value:\n",
        "            upper = x\n",
        "\n",
        "Array = [1,5,8,10,12,13,55,66,73,78,82,85,88,99]\n",
        "print('The Value Found at Index:',binary_search_Ascending(Array, 82))\n",
        "   "
      ],
      "metadata": {
        "colab": {
          "base_uri": "https://localhost:8080/"
        },
        "id": "I_OsSyqwg02n",
        "outputId": "f4369f73-a660-435d-e7d2-12cf88843f28"
      },
      "execution_count": 17,
      "outputs": [
        {
          "output_type": "stream",
          "name": "stdout",
          "text": [
            "Array Length: 14\n",
            "Middle Value: 7\n",
            "Middle Value: 10\n",
            "The Value Found at Index: 10\n"
          ]
        }
      ]
    },
    {
      "cell_type": "code",
      "source": [],
      "metadata": {
        "id": "v83QhgmejFSK"
      },
      "execution_count": null,
      "outputs": []
    }
  ]
}