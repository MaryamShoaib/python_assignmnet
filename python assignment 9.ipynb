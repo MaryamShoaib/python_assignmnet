{
  "nbformat": 4,
  "nbformat_minor": 0,
  "metadata": {
    "colab": {
      "provenance": []
    },
    "kernelspec": {
      "name": "python3",
      "display_name": "Python 3"
    },
    "language_info": {
      "name": "python"
    }
  },
  "cells": [
    {
      "cell_type": "code",
      "source": [
        "# Write a Python program to check if the given number is a Disarium Number?\n",
        "n = int(input(\"Enter a number here: \"))\n",
        "l = len(str(n))\n",
        "\n",
        "t=n\n",
        "r = 0\n",
        "s = 0\n",
        "\n",
        "while t>0:\n",
        "    r = t%10 \n",
        "    s = s+(r**l)\n",
        "    t = t//10\n",
        "    l = l-1\n",
        "    \n",
        "if s == n:\n",
        "    print(\"The number is Disarium Number\")\n",
        "    \n",
        "else:\n",
        "    print(\"The number is NOT Disarium Number\")"
      ],
      "metadata": {
        "colab": {
          "base_uri": "https://localhost:8080/"
        },
        "id": "OoocwsLXofdp",
        "outputId": "88e3efd6-4015-4ef6-aab8-93fcc699a949"
      },
      "execution_count": 9,
      "outputs": [
        {
          "output_type": "stream",
          "name": "stdout",
          "text": [
            "Enter a number here: 175\n",
            "The number is Disarium Number\n"
          ]
        }
      ]
    },
    {
      "cell_type": "code",
      "source": [
        "# Write a Python program to print all disarium numbers between 1 to 100?\n",
        "\n",
        "def cLength(n):    \n",
        "    l = 0;    \n",
        "    while(n != 0):    \n",
        "        l = l + 1;    \n",
        "        n = n//10;    \n",
        "    return l;    \n",
        "     \n",
        "    \n",
        "def sDigits(num):    \n",
        "    rem = sum = 0;    \n",
        "    len = cLength(num);    \n",
        "        \n",
        "    while(num > 0):    \n",
        "        rem = num%10;    \n",
        "        sum = sum + (rem**len);    \n",
        "        num = num//10;    \n",
        "        len = len - 1;    \n",
        "    return sum;    \n",
        "      \n",
        "result = 0;    \n",
        "        \n",
        "print(\"Disarium numbers between 1 and 100 are\");    \n",
        "for i in range(1, 101):    \n",
        "    result = sDigits(i);    \n",
        "        \n",
        "    if(result == i):    \n",
        "        print(i)   "
      ],
      "metadata": {
        "colab": {
          "base_uri": "https://localhost:8080/"
        },
        "id": "ZlMR8rLGojZG",
        "outputId": "881bf7b1-eca1-4e90-a13b-bddfe16dcb0b"
      },
      "execution_count": 10,
      "outputs": [
        {
          "output_type": "stream",
          "name": "stdout",
          "text": [
            "Disarium numbers between 1 and 100 are\n",
            "1\n",
            "2\n",
            "3\n",
            "4\n",
            "5\n",
            "6\n",
            "7\n",
            "8\n",
            "9\n",
            "89\n"
          ]
        }
      ]
    },
    {
      "cell_type": "code",
      "source": [
        "# Write a Python program to check if the given number is Happy Number?\n",
        "def numSquareSum(n): \n",
        "    squareSum = 0; \n",
        "    while(n): \n",
        "        squareSum += (n % 10) * (n % 10); \n",
        "        n = int(n / 10); \n",
        "    return squareSum; \n",
        "\n",
        "def isHappynumber(n): \n",
        "\n",
        "    slow = n; \n",
        "    fast = n; \n",
        "    while(True): \n",
        "\n",
        "        slow = numSquareSum(slow); \n",
        " \n",
        "        fast = numSquareSum(numSquareSum(fast)); \n",
        "        if(slow != fast): \n",
        "            continue; \n",
        "        else: \n",
        "            break; \n",
        " \n",
        "    return (slow == 1); \n",
        "  \n",
        "n = 19; \n",
        "if (isHappynumber(n)): \n",
        "    print(n , \"is a Happy number\"); \n",
        "else: \n",
        "    print(n , \"is not a Happy number\");"
      ],
      "metadata": {
        "colab": {
          "base_uri": "https://localhost:8080/"
        },
        "id": "OXsxD3QqosZT",
        "outputId": "97aa3dda-f8c9-4e8d-85a1-52339dcf183a"
      },
      "execution_count": 11,
      "outputs": [
        {
          "output_type": "stream",
          "name": "stdout",
          "text": [
            "19 is a Happy number\n"
          ]
        }
      ]
    },
    {
      "cell_type": "code",
      "source": [
        "# Write a Python program to print all happy numbers between 1 and 100?\n",
        "\n",
        "def isHappyNumber(num):    \n",
        "    rem = sum = 0;    \n",
        "            \n",
        "    while(num > 0):    \n",
        "        rem = num%10;    \n",
        "        sum = sum + (rem*rem);    \n",
        "        num = num//10;    \n",
        "    return sum;    \n",
        "               \n",
        "print(\"List of happy numbers between 1 and 100: \");    \n",
        "for i in range(1, 101):    \n",
        "    result = i;    \n",
        "        \n",
        "    while(result != 1 and result != 4):    \n",
        "        result = isHappyNumber(result);    \n",
        "        \n",
        "    if(result == 1):    \n",
        "        print(i),    \n",
        "        print(\" \"), "
      ],
      "metadata": {
        "colab": {
          "base_uri": "https://localhost:8080/"
        },
        "id": "4iDMBEcvo7ZT",
        "outputId": "1e030ab9-f55d-41be-c018-9f659e6ad510"
      },
      "execution_count": 12,
      "outputs": [
        {
          "output_type": "stream",
          "name": "stdout",
          "text": [
            "List of happy numbers between 1 and 100: \n",
            "1\n",
            " \n",
            "7\n",
            " \n",
            "10\n",
            " \n",
            "13\n",
            " \n",
            "19\n",
            " \n",
            "23\n",
            " \n",
            "28\n",
            " \n",
            "31\n",
            " \n",
            "32\n",
            " \n",
            "44\n",
            " \n",
            "49\n",
            " \n",
            "68\n",
            " \n",
            "70\n",
            " \n",
            "79\n",
            " \n",
            "82\n",
            " \n",
            "86\n",
            " \n",
            "91\n",
            " \n",
            "94\n",
            " \n",
            "97\n",
            " \n",
            "100\n",
            " \n"
          ]
        }
      ]
    },
    {
      "cell_type": "code",
      "source": [
        "# Python program to check if a number is Harshad Number or not.\n",
        "\n",
        "def cHarshad( n ) :\n",
        "\ts = 0\n",
        "\ttemp = n\n",
        "\twhile temp > 0 :\n",
        "\t\ts = s + temp % 10\n",
        "\t\ttemp = temp // 10\n",
        "\treturn n % sum == 0\n",
        "\n",
        "n = int(input(\"Enter a number here: \"))\n",
        "if(checkHarshad(n)) : \n",
        "  print(\"Yes\")\n",
        "else : \n",
        "  print (\"No\")\n",
        "\n"
      ],
      "metadata": {
        "colab": {
          "base_uri": "https://localhost:8080/"
        },
        "id": "v_Loug_Mk11b",
        "outputId": "778ef2e6-a0a2-4a2d-92e3-d7add90a9174"
      },
      "execution_count": 6,
      "outputs": [
        {
          "output_type": "stream",
          "name": "stdout",
          "text": [
            "Enter a number here: 21\n",
            "Yes\n"
          ]
        }
      ]
    },
    {
      "cell_type": "code",
      "source": [
        "# Write a Python program to print all pronic numbers between 1 and 100?\n",
        "\n",
        "def ispronic(n):\n",
        "  flag = False\n",
        "  \n",
        "  for i in range(1, n+1):\n",
        "    if (i*(i+1) == n):\n",
        "     flag = True\n",
        "  return flag\n",
        "\n",
        "print(\"Pronic number from 1 to 100 are\")\n",
        "for i in range(0,101):\n",
        "  if ispronic(i):\n",
        "    print(i)"
      ],
      "metadata": {
        "colab": {
          "base_uri": "https://localhost:8080/"
        },
        "id": "sXrbvMc6pJw5",
        "outputId": "42abb6e6-4ec0-45d8-9498-15a5254f57fd"
      },
      "execution_count": 15,
      "outputs": [
        {
          "output_type": "stream",
          "name": "stdout",
          "text": [
            "Pronic number from 1 to 100 are\n",
            "2\n",
            "6\n",
            "12\n",
            "20\n",
            "30\n",
            "42\n",
            "56\n",
            "72\n",
            "90\n"
          ]
        }
      ]
    },
    {
      "cell_type": "code",
      "source": [],
      "metadata": {
        "id": "NX1vWscJ1Ouv"
      },
      "execution_count": null,
      "outputs": []
    }
  ]
}