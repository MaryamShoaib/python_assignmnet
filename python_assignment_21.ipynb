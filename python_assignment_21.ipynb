{
  "nbformat": 4,
  "nbformat_minor": 0,
  "metadata": {
    "colab": {
      "provenance": []
    },
    "kernelspec": {
      "name": "python3",
      "display_name": "Python 3"
    },
    "language_info": {
      "name": "python"
    }
  },
  "cells": [
    {
      "cell_type": "code",
      "execution_count": 37,
      "metadata": {
        "colab": {
          "base_uri": "https://localhost:8080/"
        },
        "id": "iuGIy8F1yv3K",
        "outputId": "49ef3d29-82ed-4b8d-cbd1-16c674668db3"
      },
      "outputs": [
        {
          "output_type": "stream",
          "name": "stdout",
          "text": [
            "[6, 7, 8, 9, 1]\n",
            "No list has been selected\n"
          ]
        }
      ],
      "source": [
        "'''Question1\n",
        "Write a function that takes a list and a number as arguments. Add the number to the end of\n",
        "the list, then remove the first element of the list. The function should then return the updated\n",
        "list.\n",
        "Examples\n",
        "next_in_line([5, 6, 7, 8, 9], 1) ➞ [6, 7, 8, 9, 1]\n",
        "next_in_line([7, 6, 3, 23, 17], 10) ➞ [6, 3, 23, 17, 10]\n",
        "next_in_line([1, 10, 20, 42 ], 6) ➞ [10, 20, 42, 6]\n",
        "next_in_line([], 6) ➞ 'No list has been selected'''\n",
        "\n",
        "def next_in_line(l, k):\n",
        "  if len(l) > 0:\n",
        "    del l[0]\n",
        "    l.append(k)\n",
        "    return l\n",
        "  else:\n",
        "    print(\"No list has been selected\")\n",
        "\n",
        "l = [5,6,7,8,9]\n",
        "print(next_in_line(l, 1))\n",
        "l1 = []\n",
        "next_in_line(l1, 6)"
      ]
    },
    {
      "cell_type": "code",
      "source": [
        "'''Question2\n",
        "Create the function that takes a list of dictionaries and returns the sum of people's budgets.\n",
        "Examples\n",
        "get_budgets([{ 'name': 'John', 'age': 21, 'budget': 23000 },\n",
        "{ 'name': 'Steve', 'age': 32, 'budget': 40000 },\n",
        "{ 'name': 'Martin', 'age': 16, 'budget': 2700 }]) ➞ 65700\n",
        "get_budgets([{ 'name': 'John', 'age': 21, 'budget': 29000 },\n",
        "{ 'name': 'Steve', 'age': 32, 'budget': 32000 },\n",
        "{ 'name': 'Martin', 'age' 16, 'budget': 1600 }]) ➞ 62600'''\n",
        "\n",
        "def getBudgets(dic):\n",
        "  s = 0\n",
        "  for i in dic:\n",
        "    for k,v in i.items():\n",
        "      if k == \"budget\":\n",
        "        s = s+v\n",
        "  return s\n",
        "\n",
        "\n",
        "dic = ([{ 'name': 'John', 'age': 21, 'budget': 23000 },\n",
        "{ 'name': 'Steve', 'age': 32, 'budget': 40000 },\n",
        "{ 'name': 'Martin', 'age': 16, 'budget': 2700 }])\n",
        "\n",
        "print(getBudgets(dic))\n",
        "\n",
        "dic1 = ([{ 'name': 'John', 'age': 21, 'budget': 29000 },\n",
        "{ 'name': 'Steve', 'age': 32, 'budget': 32000 },\n",
        "{ 'name': 'Martin', 'age': 16, 'budget': 1600 }])\n",
        "\n",
        "getBudgets(dic1)"
      ],
      "metadata": {
        "colab": {
          "base_uri": "https://localhost:8080/"
        },
        "id": "V7mXt7RY0EcR",
        "outputId": "79166491-9b9d-4047-daec-4513d9ae8d1c"
      },
      "execution_count": 48,
      "outputs": [
        {
          "output_type": "stream",
          "name": "stdout",
          "text": [
            "65700\n"
          ]
        },
        {
          "output_type": "execute_result",
          "data": {
            "text/plain": [
              "62600"
            ]
          },
          "metadata": {},
          "execution_count": 48
        }
      ]
    },
    {
      "cell_type": "code",
      "source": [
        "'''Question3\n",
        "Create a function that takes a string and returns a string with its letters in alphabetical order.\n",
        "Examples\n",
        "alphabet_soup('hello') ➞ 'ehllo'\n",
        "alphabet_soup('edabit') ➞ 'abdeit'\n",
        "alphabet_soup('hacker') ➞ 'acehkr'\n",
        "alphabet_soup('geek) ➞ 'eegk'\n",
        "alphabet_soup('javascript') ➞ 'aacijprstv'''\n",
        "\n",
        "def alphastring(n):\n",
        "  l = [n[i] for i in range(len(n))]\n",
        "  l.sort()\n",
        "  for i in l:\n",
        "    print(i, end=\"\")\n",
        "    \n",
        "alphastring(\"hello\")"
      ],
      "metadata": {
        "colab": {
          "base_uri": "https://localhost:8080/"
        },
        "id": "iHJEUJ1A8KRV",
        "outputId": "fc2580cb-0ed6-43eb-8c65-873f0005b9a4"
      },
      "execution_count": 51,
      "outputs": [
        {
          "output_type": "stream",
          "name": "stdout",
          "text": [
            "ehllo"
          ]
        }
      ]
    },
    {
      "cell_type": "code",
      "source": [
        "'''Question4\n",
        "Suppose that you invest $10,000 for 10 years at an interest rate of 6% compounded monthly.\n",
        "What will be the value of your investment at the end of the 10 year period?\n",
        "Create a function that accepts the principal p, the term in years t, the interest rate r, and the\n",
        "number of compounding periods per year n. The function returns the value at the end of term\n",
        "rounded to the nearest cent.\n",
        "For the example above:\n",
        "compound_interest(10000, 10, 0.06, 12) ➞ 18193.97\n",
        "Note that the interest rate is given as a decimal and n=12 because with monthly compounding\n",
        "there are 12 periods per year. Compounding can also be done annually, quarterly, weekly, or\n",
        "daily.\n",
        "Examples\n",
        "compound_interest(100, 1, 0.05, 1) ➞ 105.0\n",
        "compound_interest(3500, 15, 0.1, 4) ➞ 15399.26\n",
        "compound_interest(100000, 20, 0.15, 365) ➞ 2007316.26'''\n",
        "\n",
        "def compound_interest(p, t, r, n):\n",
        "  a = p*(pow((1+r/n), n*t))\n",
        "  return (round(a, 2))\n",
        "\n",
        "compound_interest(10000, 10, 0.06, 12)"
      ],
      "metadata": {
        "colab": {
          "base_uri": "https://localhost:8080/"
        },
        "id": "iuqj-BIaAJEa",
        "outputId": "70984cdd-a800-4a6a-f3ca-2ecf9b34a0c5"
      },
      "execution_count": 31,
      "outputs": [
        {
          "output_type": "execute_result",
          "data": {
            "text/plain": [
              "18193.97"
            ]
          },
          "metadata": {},
          "execution_count": 31
        }
      ]
    },
    {
      "cell_type": "code",
      "source": [
        "'''Question5\n",
        "Write a function that takes a list of elements and returns only the integers.\n",
        "Examples\n",
        "return_only_integer([9, 2, 'space', 'car', 'lion', 16]) ➞ [9, 2, 16]\n",
        "return_only_integer(['hello', 81, 'basketball', 123, 'fox']) ➞ [81, 123]\n",
        "return_only_integer([10, '121', 56, 20, 'car', 3, 'lion']) ➞ [10, 56, 20, 3]\n",
        "return_only_integer(['String', True, 3.3, 1]) ➞ [1]'''\n",
        "\n",
        "def intonly(n):\n",
        "  l = []\n",
        "  for i in n:\n",
        "    if type(i) == int:\n",
        "      l.append(i)\n",
        "  return l\n",
        "\n",
        "n = [10, \"121\", 56, \"space\", True, 3.3, 1]\n",
        "intonly(n)"
      ],
      "metadata": {
        "colab": {
          "base_uri": "https://localhost:8080/"
        },
        "id": "yPz2IIJyGHbG",
        "outputId": "38e532e2-2f4e-40d3-b867-ad0607f49a2e"
      },
      "execution_count": 32,
      "outputs": [
        {
          "output_type": "execute_result",
          "data": {
            "text/plain": [
              "[10, 56, 1]"
            ]
          },
          "metadata": {},
          "execution_count": 32
        }
      ]
    }
  ]
}