{
  "nbformat": 4,
  "nbformat_minor": 0,
  "metadata": {
    "colab": {
      "provenance": []
    },
    "kernelspec": {
      "name": "python3",
      "display_name": "Python 3"
    },
    "language_info": {
      "name": "python"
    }
  },
  "cells": [
    {
      "cell_type": "code",
      "execution_count": 3,
      "metadata": {
        "colab": {
          "base_uri": "https://localhost:8080/"
        },
        "id": "-LLIrY5Y8BWl",
        "outputId": "ed36d66f-11d1-4026-c526-56ed0af24a17"
      },
      "outputs": [
        {
          "output_type": "stream",
          "name": "stdout",
          "text": [
            "[1, 2]\n",
            "[1, 0, 15]\n",
            "[1, 2, 123]\n"
          ]
        }
      ],
      "source": [
        "'''Question 1\n",
        "Create a function that takes a list of non-negative integers and strings and return a new list\n",
        "without the strings.\n",
        "Examples\n",
        "filter_list([1, 2, 'a', 'b']) ➞ [1, 2]\n",
        "filter_list([1, 'a', 'b', 0, 15]) ➞ [1, 0, 15]\n",
        "filter_list([1, 2, 'aasf', '1', '123', 123]) ➞ [1, 2, 123]'''\n",
        "\n",
        "def intonly(n):\n",
        "  l = []\n",
        "  for i in n:\n",
        "    if type(i) == int:\n",
        "      l.append(i)\n",
        "  return (l)\n",
        "  \n",
        "n = [1,2,'a','b']\n",
        "n1 = [1,'a', 'b', 0, 15]\n",
        "n2 = [1,2,'aasf','1','123',123]\n",
        "\n",
        "print(intonly(n))\n",
        "print(intonly(n1))\n",
        "print(intonly(n2))"
      ]
    },
    {
      "cell_type": "code",
      "source": [
        "'''Question 2\n",
        "The 'Reverser' takes a string as input and returns that string in reverse order, with the\n",
        "opposite case.\n",
        "Examples\n",
        "reverse('Hello World') ➞ 'DLROw OLLEh'\n",
        "reverse('ReVeRsE') ➞ 'eSrEvEr'\n",
        "reverse('Radar') ➞ 'RADAr'''\n",
        "\n",
        "def reversed(n):\n",
        "  s = n[::-1]\n",
        "  \n",
        "  for i in s:\n",
        "    if i.isupper():\n",
        "      a = i.lower()\n",
        "      print (a)\n",
        "    elif i.lower():\n",
        "      b = i.upper()\n",
        "      print(b)\n",
        "\n",
        "reversed(\"Radar\")\n"
      ],
      "metadata": {
        "colab": {
          "base_uri": "https://localhost:8080/"
        },
        "id": "NGxwBh-I-V29",
        "outputId": "d0965e0a-95ab-4aba-f5fd-aa8ef624914d"
      },
      "execution_count": 17,
      "outputs": [
        {
          "output_type": "stream",
          "name": "stdout",
          "text": [
            "R\n",
            "A\n",
            "D\n",
            "A\n",
            "r\n"
          ]
        }
      ]
    },
    {
      "cell_type": "code",
      "source": [
        "\"\"\"Question 3\n",
        "You can assign variables from lists like this:\n",
        "lst = [1, 2, 3, 4, 5, 6]\n",
        "first = lst[0]\n",
        "middle = lst[1:-1]\n",
        "last = lst[-1]\n",
        "print(first) ➞ outputs 1\n",
        "print(middle) ➞ outputs [2, 3, 4, 5]\n",
        "print(last) ➞ outputs 6\n",
        "With Python 3, you can assign variables from lists in a much more succinct way. Create\n",
        "variables first, middle and last from the given list using destructuring assignment\n",
        "(check the Resources tab for some examples), where:\n",
        "first ➞ 1\n",
        "middle ➞ [2, 3, 4, 5]\n",
        "last ➞ 6\n",
        "\n",
        "Your task is to unpack the list writeyourcodehere into three variables, being first,\n",
        "middle, and last, with middle being everything in between the first and last element. Then\n",
        "print all three variables.\"\"\"\n",
        "\n",
        "def varposition(l):\n",
        "  f = l[0]\n",
        "  m = l[1:-1]\n",
        "  e = l[-1]\n",
        "  print(f)\n",
        "  print(m)\n",
        "  print(e)\n",
        "\n",
        "l = [1,2,3,4,5,6,7,8,9]\n",
        "varposition(l)"
      ],
      "metadata": {
        "colab": {
          "base_uri": "https://localhost:8080/"
        },
        "id": "0aXpcFBZ_adj",
        "outputId": "1c7cb402-436a-4717-dd13-c0293c9a35ef"
      },
      "execution_count": 27,
      "outputs": [
        {
          "output_type": "stream",
          "name": "stdout",
          "text": [
            "1\n",
            "[2, 3, 4, 5, 6, 7, 8]\n",
            "9\n"
          ]
        }
      ]
    },
    {
      "cell_type": "code",
      "source": [
        "'''Question 4\n",
        "Write a function that calculates the factorial of a number recursively.\n",
        "Examples\n",
        "factorial(5) ➞ 120\n",
        "factorial(3) ➞ 6\n",
        "factorial(1) ➞ 1\n",
        "factorial(0) ➞ 1'''\n",
        "\n",
        "def recfactorial(n):\n",
        "  f = 1\n",
        "  \n",
        "  if n == 0:\n",
        "    return 1\n",
        "  for i in range(1, n+1):\n",
        "    f = f*i\n",
        "  return f\n",
        "\n",
        "print(recfactorial(5))\n",
        "print(recfactorial(3))\n",
        "print(recfactorial(1))\n",
        "print(recfactorial(0))"
      ],
      "metadata": {
        "colab": {
          "base_uri": "https://localhost:8080/"
        },
        "id": "dpPArE_KVWqY",
        "outputId": "8b86a006-ae30-4098-81dc-b7a37e969853"
      },
      "execution_count": 32,
      "outputs": [
        {
          "output_type": "stream",
          "name": "stdout",
          "text": [
            "120\n",
            "6\n",
            "1\n",
            "1\n"
          ]
        }
      ]
    },
    {
      "cell_type": "code",
      "source": [
        "'''Question 5\n",
        "Write a function that moves all elements of one type to the end of the list.\n",
        "Examples\n",
        "move_to_end([1, 3, 2, 4, 4, 1], 1) ➞ [3, 2, 4, 4, 1, 1]\n",
        "# Move all the 1s to the end of the array.\n",
        "move_to_end([7, 8, 9, 1, 2, 3, 4], 9) ➞ [7, 8, 1, 2, 3, 4, 9]\n",
        "move_to_end(['a', 'a', 'a', 'b'], 'a') ➞ ['b', 'a', 'a', 'a']'''\n",
        "\n",
        "def movelast(l, k):\n",
        "  for i in l:\n",
        "    if i == k:\n",
        "      l.remove(i)\n",
        "      l.append(i)\n",
        "  return l\n",
        "\n",
        "l = [1, 3, 2 ,4, 4, 1]\n",
        "print(movelast(l, 1))\n",
        "\n",
        "l1 = [7, 8, 9, 1, 2, 3 ,4]\n",
        "print(movelast(l1, 9))\n",
        "\n",
        "l2 = [\"a\", \"a\", \"a\", \"b\"]\n",
        "print(movelast(l2, \"a\"))\n"
      ],
      "metadata": {
        "colab": {
          "base_uri": "https://localhost:8080/"
        },
        "id": "JRfJL-K-W86t",
        "outputId": "1bc3c940-1baa-447d-e6df-eb15188785ce"
      },
      "execution_count": 8,
      "outputs": [
        {
          "output_type": "stream",
          "name": "stdout",
          "text": [
            "[3, 2, 4, 4, 1, 1]\n",
            "[7, 8, 1, 2, 3, 4, 9]\n",
            "['b', 'a', 'a', 'a']\n"
          ]
        }
      ]
    },
    {
      "cell_type": "code",
      "source": [],
      "metadata": {
        "id": "Veuo1KqBwdwY"
      },
      "execution_count": null,
      "outputs": []
    }
  ]
}