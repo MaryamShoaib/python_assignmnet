{
  "nbformat": 4,
  "nbformat_minor": 0,
  "metadata": {
    "colab": {
      "provenance": []
    },
    "kernelspec": {
      "name": "python3",
      "display_name": "Python 3"
    },
    "language_info": {
      "name": "python"
    }
  },
  "cells": [
    {
      "cell_type": "code",
      "execution_count": 6,
      "metadata": {
        "colab": {
          "base_uri": "https://localhost:8080/"
        },
        "id": "TuItY666rqNE",
        "outputId": "9ae39f2e-5c0b-49c7-cd8d-e5f975e87b65"
      },
      "outputs": [
        {
          "output_type": "stream",
          "name": "stdout",
          "text": [
            "Enter a word here :outstanding\n",
            "ou ... ou ... outstanding ?\n"
          ]
        }
      ],
      "source": [
        "\"\"\"Question1. Write a function that stutters a word as if someone is struggling to read it. The\n",
        "first two letters are repeated twice with an ellipsis ... and space after each, and then the\n",
        "word is pronounced with a question mark ?.\n",
        "Examples\n",
        "stutter(\"incredible\") ➞ \"in... in... incredible?\"\n",
        "stutter(\"enthusiastic\") ➞ \"en... en... enthusiastic?\"\n",
        "stutter(\"outstanding\") ➞ \"ou... ou... outstanding?\"\n",
        "\n",
        "Hint :- Assume all input is in lower case and at least two characters long.\"\"\"\n",
        "\n",
        "def stutter(n):\n",
        "  print(n[:2],\"...\", n[:2], \"...\", n,\"?\")\n",
        "\n",
        "\n",
        "n = input(\"Enter a word here :\")\n",
        "stutter(n)\n"
      ]
    },
    {
      "cell_type": "code",
      "source": [
        "\"\"\"Question 2.Create a function that takes an angle in radians and returns the corresponding\n",
        "angle in degrees rounded to one decimal place.\n",
        "Examples\n",
        "radians_to_degrees(1) ➞ 57.3\n",
        "radians_to_degrees(20) ➞ 1145.9\n",
        "radians_to_degrees(50) ➞ 2864.8\"\"\"\n",
        "\n",
        "def angradian(r):\n",
        "  h = r*(180/3.14159)\n",
        "  print(round(h,1))\n",
        "\n",
        "r = int(input(\"Enter a radian here: \"))\n",
        "angradian(r)"
      ],
      "metadata": {
        "colab": {
          "base_uri": "https://localhost:8080/"
        },
        "id": "3uQWl_OqtG3E",
        "outputId": "919a275c-a586-4bde-beb9-c07e93874906"
      },
      "execution_count": 11,
      "outputs": [
        {
          "output_type": "stream",
          "name": "stdout",
          "text": [
            "Enter a radian here: 50\n",
            "2864.8\n"
          ]
        }
      ]
    },
    {
      "cell_type": "code",
      "source": [
        "\"\"\"Question 3. In this challenge, establish if a given integer num is a Curzon number. If 1 plus\n",
        "2 elevated to num is exactly divisible by 1 plus 2 multiplied by num, then num is a Curzon\n",
        "number.\n",
        "Given a non-negative integer num, implement a function that returns True if num is a Curzon\n",
        "number, or False otherwise.\n",
        "Examples\n",
        "is_curzon(5) ➞ True\n",
        "# 2 ** 5 + 1 = 33\n",
        "# 2 * 5 + 1 = 11\n",
        "# 33 is a multiple of 11\n",
        "is_curzon(10) ➞ False\n",
        "# 2 ** 10 + 1 = 1025\n",
        "# 2 * 10 + 1 = 21\n",
        "# 1025 is not a multiple of 21\n",
        "is_curzon(14) ➞ True\n",
        "# 2 ** 14 + 1 = 16385\n",
        "# 2 * 14 + 1 = 29\n",
        "# 16385 is a multiple of 29\"\"\"\n",
        "\n",
        "def iscurzon(n):\n",
        "  p = (2**n)+1\n",
        "  x = (2*n)+1\n",
        "  if p%x == 0:\n",
        "    print(\"True\")\n",
        "  else:\n",
        "    print(\"False\")\n",
        "\n",
        "n = int(input(\"Enter a number here: \"))\n",
        "iscurzon(n)"
      ],
      "metadata": {
        "colab": {
          "base_uri": "https://localhost:8080/"
        },
        "id": "VKgpd6E0wUFx",
        "outputId": "ef897c19-f80a-49d3-e967-622e4194dc1e"
      },
      "execution_count": 13,
      "outputs": [
        {
          "output_type": "stream",
          "name": "stdout",
          "text": [
            "Enter a number here: 14\n",
            "True\n"
          ]
        }
      ]
    },
    {
      "cell_type": "code",
      "source": [
        "'''Question 4.Given the side length x find the area of a hexagon.\n",
        "A = (3*(3**0.5)*(s**2))/2\n",
        "Examples\n",
        "area_of_hexagon(1) ➞ 2.6\n",
        "area_of_hexagon(2) ➞ 10.4\n",
        "area_of_hexagon(3) ➞ 23.4'''\n",
        "\n",
        "def areaofhexagon(s):\n",
        "  a = (3*(3**0.5)*(s**2))/2\n",
        "  print(round(a,1))\n",
        "\n",
        "s = int(input(\"Enter a number here: \"))\n",
        "areaofhexagon(s)"
      ],
      "metadata": {
        "colab": {
          "base_uri": "https://localhost:8080/"
        },
        "id": "RMYSe2-P2QsW",
        "outputId": "8549b439-35b5-40e8-bef1-03c7cd6ae1a3"
      },
      "execution_count": 15,
      "outputs": [
        {
          "output_type": "stream",
          "name": "stdout",
          "text": [
            "Enter a number here: 3\n",
            "23.4\n"
          ]
        }
      ]
    },
    {
      "cell_type": "code",
      "source": [
        "from pickle import STACK_GLOBAL\n",
        "\"\"\"Question 5. Create a function that returns a base-2 (binary) representation of a base-10\n",
        "(decimal) string number. To convert is simple: ((2) means base-2 and (10) means base-10)\n",
        "010101001(2) = 1 + 8 + 32 + 128.\n",
        "Going from right to left, the value of the most right bit is 1, now from that every bit to the left\n",
        "will be x2 the value, value of an 8 bit binary numbers are (256, 128, 64, 32, 16, 8, 4, 2, 1).\n",
        "Examples\n",
        "binary(1) ➞ \"1\";\n",
        "# 1*1 = 1\n",
        "binary(5) ➞ \"101\"\n",
        "# 1*1 + 1*4 = 5\n",
        "binary(10) ➞ \"1010\"\n",
        "# 1*2 + 1*8 = 10\"\"\"\n",
        "class Node:\n",
        "    def __init__(self, value):\n",
        "        self.value = value\n",
        "        self.next = None\n",
        " \n",
        " \n",
        "class Stack:\n",
        " \n",
        "    def __init__(self):\n",
        "        self.head = Node(\"head\")\n",
        "        self.size = 0\n",
        " \n",
        "    def __str__(self):\n",
        "        cur = self.head.next\n",
        "        out = \"\"\n",
        "        while cur:\n",
        "            out += str(cur.value) + \"->\"\n",
        "            cur = cur.next\n",
        "        return out[:-3]\n",
        "    def getSize(self):\n",
        "        return self.size\n",
        " \n",
        "    def isEmpty(self):\n",
        "        return self.size == 0\n",
        " \n",
        "    def peek(self):\n",
        " \n",
        "        if self.isEmpty():\n",
        "            raise Exception(\"Peeking from an empty stack\")\n",
        "        return self.head.next.value\n",
        " \n",
        "    def push(self, value):\n",
        "        node = Node(value)\n",
        "        node.next = self.head.next\n",
        "        self.head.next = node\n",
        "        self.size += 1\n",
        " \n",
        "    def pop(self):\n",
        "        if self.isEmpty():\n",
        "            raise Exception(\"Popping from an empty stack\")\n",
        "        remove = self.head.next\n",
        "        self.head.next = self.head.next.next\n",
        "        self.size -= 1\n",
        "        return remove.value\n",
        "\n",
        "def divideBy2(decNumber):\n",
        "    remstack = Stack()\n",
        "    while decNumber > 0:\n",
        "        rem = decNumber % 2\n",
        "        remstack.push(rem)\n",
        "        decNumber = decNumber // 2\n",
        "\n",
        "    binString = \"\"\n",
        "    while not remstack.isEmpty():\n",
        "        binString = binString + str(remstack.pop())\n",
        "\n",
        "    return binString\n",
        "\n",
        "print(divideBy2(10))\n",
        "\n"
      ],
      "metadata": {
        "colab": {
          "base_uri": "https://localhost:8080/"
        },
        "id": "zUF7QPa959z7",
        "outputId": "14b9d0e4-6dd3-4645-e603-6d8bdd9fa87a"
      },
      "execution_count": 34,
      "outputs": [
        {
          "output_type": "stream",
          "name": "stdout",
          "text": [
            "1010\n"
          ]
        }
      ]
    },
    {
      "cell_type": "code",
      "source": [],
      "metadata": {
        "id": "0xr8q4f2C9CU"
      },
      "execution_count": null,
      "outputs": []
    }
  ]
}