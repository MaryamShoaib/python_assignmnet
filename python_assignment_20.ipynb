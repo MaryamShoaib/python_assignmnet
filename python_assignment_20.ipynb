{
  "nbformat": 4,
  "nbformat_minor": 0,
  "metadata": {
    "colab": {
      "provenance": []
    },
    "kernelspec": {
      "name": "python3",
      "display_name": "Python 3"
    },
    "language_info": {
      "name": "python"
    }
  },
  "cells": [
    {
      "cell_type": "code",
      "execution_count": 9,
      "metadata": {
        "colab": {
          "base_uri": "https://localhost:8080/"
        },
        "id": "g2dqOCq9N-q2",
        "outputId": "714687fc-43c8-4df9-fe41-fa037146c8c7"
      },
      "outputs": [
        {
          "output_type": "execute_result",
          "data": {
            "text/plain": [
              "[1, 2, 3, 4]"
            ]
          },
          "metadata": {},
          "execution_count": 9
        }
      ],
      "source": [
        "'''Question1\n",
        "Create a function that takes a list of strings and integers, and filters out the list so that it\n",
        "returns a list of integers only.\n",
        "Examples\n",
        "filter_list([1, 2, 3, 'a', 'b' 4]) ➞ [1, 2, 3, 4]\n",
        "filter_list(['A', 0, 'Edabit', 1729, 'Python', '1729']) ➞ [0, 1729]\n",
        "filter_list(['Nothing', 'here']) ➞ []'''\n",
        "\n",
        "def intonly(n):\n",
        "  l = []\n",
        "  for i in n:\n",
        "    if type(i) == int:\n",
        "      l.append(i)\n",
        "  return l\n",
        "\n",
        "n = [1,2,3,'a','b',4]\n",
        "intonly(n)"
      ]
    },
    {
      "cell_type": "code",
      "source": [
        "'''Question2\n",
        "Given a list of numbers, create a function which returns the list but with each element's\n",
        "index in the list added to itself. This means you add 0 to the number at index 0, add 1 to the\n",
        "number at index 1, etc...\n",
        "Examples\n",
        "add_indexes([0, 0, 0, 0, 0]) ➞ [0, 1, 2, 3, 4]\n",
        "add_indexes([1, 2, 3, 4, 5]) ➞ [1, 3, 5, 7, 9]\n",
        "add_indexes([5, 4, 3, 2, 1]) ➞ [5, 5, 5, 5, 5]'''\n",
        "\n",
        "def lstind(n):\n",
        "  l = []\n",
        "  for i in range(len(n)):\n",
        "    l.append(i)\n",
        "  return l\n",
        "\n",
        "n = [0,0,0,0,0]\n",
        "lstind(n)"
      ],
      "metadata": {
        "colab": {
          "base_uri": "https://localhost:8080/"
        },
        "id": "pAOlpUdqPMzs",
        "outputId": "4e15ba93-782e-4616-9525-7f23f8785900"
      },
      "execution_count": 13,
      "outputs": [
        {
          "output_type": "execute_result",
          "data": {
            "text/plain": [
              "[0, 1, 2, 3, 4]"
            ]
          },
          "metadata": {},
          "execution_count": 13
        }
      ]
    },
    {
      "cell_type": "code",
      "source": [
        "'''Question3\n",
        "Create a function that takes the height and radius of a cone as arguments and returns the\n",
        "volume of the cone rounded to the nearest hundredth. See the resources tab for the formula.\n",
        "\n",
        "Examples\n",
        "cone_volume(3, 2) ➞ 12.57\n",
        "\n",
        "cone_volume(15, 6) ➞ 565.49\n",
        "cone_volume(18, 0) ➞ 0'''\n",
        "\n",
        "def volcone(h,r):\n",
        "  v = 1/3*(3.1415*r*r*h)\n",
        "  x = (round(v, 2))\n",
        "  print(x)\n",
        "\n",
        "volcone(3, 2)\n",
        "volcone(15,6)"
      ],
      "metadata": {
        "colab": {
          "base_uri": "https://localhost:8080/"
        },
        "id": "Lfq-7EBbTnW4",
        "outputId": "7b94470a-d385-45eb-fc41-415e72ff161a"
      },
      "execution_count": 5,
      "outputs": [
        {
          "output_type": "stream",
          "name": "stdout",
          "text": [
            "12.57\n",
            "565.47\n"
          ]
        }
      ]
    },
    {
      "cell_type": "code",
      "source": [
        "'''Question4\n",
        "This Triangular Number Sequence is generated from a pattern of dots that form a triangle.\n",
        "The first 5 numbers of the sequence, or dots, are:\n",
        "1, 3, 6, 10, 15\n",
        "This means that the first triangle has just one dot, the second one has three dots, the third one\n",
        "has 6 dots and so on.\n",
        "Write a function that gives the number of dots with its corresponding triangle number of the\n",
        "sequence.\n",
        "Examples\n",
        "triangle(1) ➞ 1\n",
        "triangle(6) ➞ 21\n",
        "triangle(215) ➞ 23220'''\n",
        "\n",
        "def triangularno(n):\n",
        "  s = 0\n",
        "  for i in range(1,n+1):\n",
        "    s= s+i\n",
        "  return s\n",
        "\n",
        "print(triangularno(6))\n",
        "print(triangularno(215))\n",
        "    \n",
        "\n",
        "\n"
      ],
      "metadata": {
        "colab": {
          "base_uri": "https://localhost:8080/"
        },
        "id": "0KPWAOws5F1q",
        "outputId": "165bef81-3d44-4fc4-9c09-d42deb6625af"
      },
      "execution_count": 8,
      "outputs": [
        {
          "output_type": "stream",
          "name": "stdout",
          "text": [
            "21\n",
            "23220\n"
          ]
        }
      ]
    },
    {
      "cell_type": "code",
      "source": [
        "'''Question5\n",
        "Create a function that takes a list of numbers between 1 and 10 (excluding one number) and\n",
        "returns the missing number.\n",
        "Examples\n",
        "missing_num([1, 2, 3, 4, 6, 7, 8, 9, 10]) ➞ 5\n",
        "missing_num([7, 2, 3, 6, 5, 9, 1, 4, 8]) ➞ 10\n",
        "missing_num([10, 5, 1, 2, 4, 6, 8, 3, 9]) ➞ 7'''\n",
        "\n",
        "def missing_num(n):\n",
        "  for i in range(1,11):\n",
        "    if i not in n:\n",
        "      print (i)\n",
        "\n",
        "n = [1,2,3,4,6,7,8,9,10]\n",
        "missing_num(n)\n"
      ],
      "metadata": {
        "colab": {
          "base_uri": "https://localhost:8080/"
        },
        "id": "pE8eK4h65eYj",
        "outputId": "2dc39fb8-9aa7-4b35-ef1b-3fc872f17c00"
      },
      "execution_count": 22,
      "outputs": [
        {
          "output_type": "stream",
          "name": "stdout",
          "text": [
            "5\n"
          ]
        }
      ]
    }
  ]
}