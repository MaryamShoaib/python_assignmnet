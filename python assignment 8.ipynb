{
 "cells": [
  {
   "cell_type": "code",
   "execution_count": 2,
   "id": "6fcd5df8",
   "metadata": {},
   "outputs": [
    {
     "name": "stdout",
     "output_type": "stream",
     "text": [
      "[6, 12, 11]\n",
      "[15, 5, 19]\n",
      "[16, 27, 22]\n"
     ]
    }
   ],
   "source": [
    "# Write a Python Program to Add Two Matrices?\n",
    "a= [[2,6,8],\n",
    "   [10,4,8],\n",
    "   [12,20,9]]\n",
    "b= [[4,6,3],\n",
    "   [5,1,11],\n",
    "   [4,7,13]]\n",
    "t = [[0,0,0],\n",
    "    [0,0,0],\n",
    "    [0,0,0]]\n",
    "for i in range(len(a)):\n",
    "    for j in range(len(a[0])):\n",
    "        t[i][j]= a[i][j]+b[i][j]\n",
    "    \n",
    "for k in t:\n",
    "    print(k)\n",
    "    "
   ]
  },
  {
   "cell_type": "code",
   "execution_count": 3,
   "id": "57d7ad94",
   "metadata": {},
   "outputs": [
    {
     "name": "stdout",
     "output_type": "stream",
     "text": [
      "[6, 9, 12]\n",
      "[20, 30, 14]\n",
      "[56, 18, 40]\n"
     ]
    }
   ],
   "source": [
    "# Write a Python Program to Multiply Two Matrices?\n",
    "a=[[2,3,4],\n",
    "  [5,6,7],\n",
    "  [8,9,10]]\n",
    "\n",
    "b=[[3,3,3],\n",
    "  [4,5,2],\n",
    "  [7,2,4]]\n",
    "\n",
    "d=[[0,0,0],\n",
    "  [0,0,0],\n",
    "  [0,0,0]]\n",
    "\n",
    "for i in range(len(a)):\n",
    "    for j in range(len(a[0])):\n",
    "        d[i][j]=a[i][j]*b[i][j]\n",
    "        \n",
    "for c in d:\n",
    "    print(c)"
   ]
  },
  {
   "cell_type": "code",
   "execution_count": 5,
   "id": "c56b3294",
   "metadata": {},
   "outputs": [
    {
     "name": "stdout",
     "output_type": "stream",
     "text": [
      "[2, 5, 8]\n",
      "[3, 8, 10]\n"
     ]
    }
   ],
   "source": [
    "# Write a Python Program to Transpose a Matrix?\n",
    "x= [[2,3],\n",
    "   [5,8],\n",
    "   [8,10]]\n",
    "\n",
    "y= [[0,0,0],\n",
    "   [0,0,0]]\n",
    "\n",
    "for i in range(len(x)):\n",
    "    for j in range(len(x[0])):\n",
    "        y[j][i]=x[i][j]\n",
    "    \n",
    "for r in y:\n",
    "    print(r)"
   ]
  },
  {
   "cell_type": "code",
   "execution_count": 11,
   "id": "432e9e05",
   "metadata": {},
   "outputs": [
    {
     "name": "stdout",
     "output_type": "stream",
     "text": [
      "Enter a sentence here: my name is rida\n",
      "The words are: \n",
      "is\n",
      "my\n",
      "name\n",
      "rida\n"
     ]
    }
   ],
   "source": [
    "# Write a Python Program to Sort Words in Alphabetic Order?\n",
    "x= input(\"Enter a sentence here: \")\n",
    "w = [w.lower()for w in x.split()]\n",
    "w.sort()\n",
    "print(\"The words are: \")\n",
    "for y in w:\n",
    "    print(y)"
   ]
  },
  {
   "cell_type": "code",
   "execution_count": 12,
   "id": "2d8641ee",
   "metadata": {},
   "outputs": [
    {
     "name": "stdout",
     "output_type": "stream",
     "text": [
      "Enter a sentence here: Hello!! How are you?\n",
      "Hello How are you\n"
     ]
    }
   ],
   "source": [
    "# Write a Python Program to Remove Punctuation From a String?\n",
    "p= ''':;-_[]{}()\\|!<>,./?'''\n",
    "n =input(\"Enter a sentence here: \")\n",
    "o = \"\"\n",
    "for c in n:\n",
    "    if c not in p:\n",
    "        o=o+c\n",
    "print(o)"
   ]
  }
 ],
 "metadata": {
  "kernelspec": {
   "display_name": "Python 3 (ipykernel)",
   "language": "python",
   "name": "python3"
  },
  "language_info": {
   "codemirror_mode": {
    "name": "ipython",
    "version": 3
   },
   "file_extension": ".py",
   "mimetype": "text/x-python",
   "name": "python",
   "nbconvert_exporter": "python",
   "pygments_lexer": "ipython3",
   "version": "3.9.12"
  }
 },
 "nbformat": 4,
 "nbformat_minor": 5
}
