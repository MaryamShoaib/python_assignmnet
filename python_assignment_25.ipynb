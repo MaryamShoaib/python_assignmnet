{
  "nbformat": 4,
  "nbformat_minor": 0,
  "metadata": {
    "colab": {
      "provenance": []
    },
    "kernelspec": {
      "name": "python3",
      "display_name": "Python 3"
    },
    "language_info": {
      "name": "python"
    }
  },
  "cells": [
    {
      "cell_type": "code",
      "execution_count": 2,
      "metadata": {
        "colab": {
          "base_uri": "https://localhost:8080/"
        },
        "id": "LZwZedgxYHSR",
        "outputId": "7ce57f85-ecda-4a81-b69d-08b02ca493d1"
      },
      "outputs": [
        {
          "output_type": "stream",
          "name": "stdout",
          "text": [
            "2\n",
            "3\n",
            "1\n"
          ]
        }
      ],
      "source": [
        "\"\"\"Question1\n",
        "Create a function that takes three integer arguments (a, b, c) and returns the amount of\n",
        "integers which are of equal value.\n",
        "Examples\n",
        "equal(3, 4, 3) ➞ 2\n",
        "equal(1, 1, 1) ➞ 3\n",
        "equal(3, 4, 1) ➞ 0\n",
        "Notes\n",
        "Your function must return 0, 2 or 3.\"\"\"\n",
        "def equal(a, b, c):\n",
        "  if a == b and a == c:\n",
        "    return 3\n",
        "  elif a == b or a == c:\n",
        "    return 2\n",
        "  else:\n",
        "    return 1\n",
        "\n",
        "print(equal(3, 4, 3))\n",
        "print(equal(1, 1, 1))\n",
        "print(equal(3, 4, 1))"
      ]
    },
    {
      "cell_type": "code",
      "source": [
        "'''Question2\n",
        "Write a function that converts a dictionary into a list of keys-values tuples.\n",
        "Examples\n",
        "dict_to_list({'D': 1, 'B': 2, 'C': 3 }) ➞ [('B', 2), ('C', 3), ('D', 1)]\n",
        "dict_to_list({'likes': 2, 'dislikes' : 3, 'followers': 10 }) ➞ [('dislikes', 3), ('followers', 10), ('likes', 2)]\n",
        "Notes\n",
        "Return the elements in the list in alphabetical order.'''\n",
        "\n",
        "def dict_to_list(d):\n",
        "  return sorted(list(d.items()))\n",
        "\n",
        "print(dict_to_list({'D': 1, 'B': 2, 'C': 3 }))\n",
        "print(dict_to_list({'likes': 2, 'dislikes' : 3, 'followers': 10 }))"
      ],
      "metadata": {
        "colab": {
          "base_uri": "https://localhost:8080/"
        },
        "id": "yrRkNpIpZlcT",
        "outputId": "00ef70d5-94d7-491d-b79f-3a9ec36acd2a"
      },
      "execution_count": 10,
      "outputs": [
        {
          "output_type": "stream",
          "name": "stdout",
          "text": [
            "[('B', 2), ('C', 3), ('D', 1)]\n",
            "[('dislikes', 3), ('followers', 10), ('likes', 2)]\n"
          ]
        }
      ]
    },
    {
      "cell_type": "code",
      "source": [
        "''' Question3\n",
        "Write a function that creates a dictionary with each (key, value) pair being the (lower case,\n",
        "upper case) versions of a letter, respectively.\n",
        "Examples\n",
        "mapping(['p', 's']) ➞ { 'p': 'P', 's': 'S' }\n",
        "\n",
        "mapping(['a', 'b', 'c']) ➞ { 'a': 'A, 'b': 'B', 'c': 'C' }\n",
        "mapping(['a', 'v', 'y', 'z']) ➞ { 'a': 'A', 'v': 'V', 'y': 'Y', 'z': 'Z' }\n",
        "Notes\n",
        "All of the letters in the input list will always be lowercase.'''\n",
        "\n",
        "def mapping(n):\n",
        "  return {v.lower() : v.upper() for v in n}\n",
        "\n",
        "print(mapping(['p', 's']))\n",
        "print(mapping(['a', 'b', 'c']))\n",
        "print(mapping(['a', 'v', 'y', 'z']))"
      ],
      "metadata": {
        "colab": {
          "base_uri": "https://localhost:8080/"
        },
        "id": "aqFyZtNIbAFj",
        "outputId": "a5570110-1887-4b8c-b5a6-075aa11e99b4"
      },
      "execution_count": 13,
      "outputs": [
        {
          "output_type": "stream",
          "name": "stdout",
          "text": [
            "{'p': 'P', 's': 'S'}\n",
            "{'a': 'A', 'b': 'B', 'c': 'C'}\n",
            "{'a': 'A', 'v': 'V', 'y': 'Y', 'z': 'Z'}\n"
          ]
        }
      ]
    },
    {
      "cell_type": "code",
      "source": [
        "'''Question4\n",
        "Write a function, that replaces all vowels in a string with a specified vowel.\n",
        "Examples\n",
        "vow_replace('apples and bananas', 'u') ➞ 'upplus und bununus'\n",
        "vow_replace('cheese casserole', 'o') ➞ 'chooso cossorolo'\n",
        "vow_replace('stuffed jalapeno poppers', 'e') ➞ 'steffed jelepene peppers'\n",
        "Notes\n",
        "All words will be lowercase. Y is not considered a vowel.'''\n",
        "\n",
        "def vow_replace(n, k):\n",
        "  v = \"aeiou\"\n",
        "  l = []\n",
        "  for i in range(len(n)):\n",
        "    if n[i] in v:\n",
        "      l.append(k)\n",
        "    else:\n",
        "      l.append(i)\n",
        "  return l\n",
        "\n",
        "print(vow_replace('apples and bananas', 'u'))\n",
        "print(vow_replace('cheese casserole', 'o'))\n",
        "print(vow_replace('stuffed jalapeno poppers', 'e'))"
      ],
      "metadata": {
        "colab": {
          "base_uri": "https://localhost:8080/"
        },
        "id": "gA7geSdEh9M_",
        "outputId": "eff1da0a-d691-406a-ec63-c16cfa99e2cf"
      },
      "execution_count": 19,
      "outputs": [
        {
          "output_type": "stream",
          "name": "stdout",
          "text": [
            "['u', 1, 2, 3, 'u', 5, 6, 'u', 8, 9, 10, 11, 'u', 13, 'u', 15, 'u', 17]\n",
            "[0, 1, 'o', 'o', 4, 'o', 6, 7, 'o', 9, 10, 'o', 12, 'o', 14, 'o']\n",
            "[0, 1, 'e', 3, 4, 'e', 6, 7, 8, 'e', 10, 'e', 12, 'e', 14, 'e', 16, 17, 'e', 19, 20, 'e', 22, 23]\n"
          ]
        }
      ]
    },
    {
      "cell_type": "code",
      "source": [
        "'''Question5\n",
        "Create a function that takes a string as input and capitalizes a letter if its ASCII code is even\n",
        "and returns its lower case version if its ASCII code is odd.\n",
        "Examples\n",
        "ascii_capitalize('to be or not to be!') ➞ 'To Be oR NoT To Be!'\n",
        "ascii_capitalize('THE LITTLE MERMAID') ➞ 'THe LiTTLe meRmaiD'\n",
        "ascii_capitalize('Oh what a beautiful morning.') ➞ 'oH wHaT a BeauTiFuL\n",
        "moRNiNg.'''\n",
        "\n",
        "def ascii_capitalize(n):\n",
        "  l = []\n",
        "  for i in range(len(n)):\n",
        "    if ord(n[i])%2 == 0:\n",
        "      l.append(n[i].upper())\n",
        "    else:\n",
        "      l.append(n[i].lower())\n",
        "  return \"\".join(l)\n",
        "\n",
        "print(ascii_capitalize('to be or not to be!'))\n",
        "print(ascii_capitalize('THE LITTLE MERMAID'))\n",
        "print(ascii_capitalize('Oh what a beautiful morning.'))"
      ],
      "metadata": {
        "colab": {
          "base_uri": "https://localhost:8080/"
        },
        "id": "itYo4KLGlzEm",
        "outputId": "b554f287-040e-4555-9b90-475b6a61424c"
      },
      "execution_count": 21,
      "outputs": [
        {
          "output_type": "stream",
          "name": "stdout",
          "text": [
            "To Be oR NoT To Be!\n",
            "THe LiTTLe meRmaiD\n",
            "oH wHaT a BeauTiFuL moRNiNg.\n"
          ]
        }
      ]
    }
  ]
}