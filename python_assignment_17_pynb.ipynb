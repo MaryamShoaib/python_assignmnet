{
  "nbformat": 4,
  "nbformat_minor": 0,
  "metadata": {
    "colab": {
      "provenance": []
    },
    "kernelspec": {
      "name": "python3",
      "display_name": "Python 3"
    },
    "language_info": {
      "name": "python"
    }
  },
  "cells": [
    {
      "cell_type": "code",
      "execution_count": 6,
      "metadata": {
        "colab": {
          "base_uri": "https://localhost:8080/"
        },
        "id": "0rF7az-ydMjE",
        "outputId": "73da30d4-5257-47a5-869b-404f3c85b79d"
      },
      "outputs": [
        {
          "output_type": "execute_result",
          "data": {
            "text/plain": [
              "30"
            ]
          },
          "metadata": {},
          "execution_count": 6
        }
      ],
      "source": [
        "'''Question1. Create a function that takes three arguments a, b, c and returns the sum of the\n",
        "numbers that are evenly divided by c from the range a, b inclusive.\n",
        "Examples\n",
        "evenly_divisible(1, 10, 20) ➞ 0\n",
        "# No number between 1 and 10 can be evenly divided by 20.\n",
        "evenly_divisible(1, 10, 2) ➞ 30\n",
        "# 2 + 4 + 6 + 8 + 10 = 30\n",
        "evenly_divisible(1, 10, 3) ➞ 18\n",
        "# 3 + 6 + 9 = 18'''\n",
        "def sumofevenlydivide(s,f,e):\n",
        "  sum = 0\n",
        "  for i in range(s,f+1):\n",
        "    if i%e == 0:\n",
        "      sum+=i\n",
        "  return(sum)\n",
        "\n",
        "sumofevenlydivide(1,10,2)\n"
      ]
    },
    {
      "cell_type": "code",
      "source": [
        "'''Question2. Create a function that returns True if a given inequality expression is correct and\n",
        "False otherwise.\n",
        "Examples\n",
        "correct_signs(\"3 < 7 < 11\") ➞ True\n",
        "correct_signs('13 > 44 > 33 > 1') ➞ False\n",
        "correct_signs('1 < 2 < 6 < 9 > 3') ➞ True'''\n",
        "\n",
        "def check(s):\n",
        "  regex = eval(s)\n",
        "  if regex:\n",
        "    return \"True\"\n",
        "  else:\n",
        "    return \"False\"\n",
        "\n",
        "\n",
        "print(check(\"3<7<11\"))\n",
        "print(check(\"13>44>33>1\"))"
      ],
      "metadata": {
        "colab": {
          "base_uri": "https://localhost:8080/"
        },
        "id": "T44bWBqVgzsW",
        "outputId": "24802dee-53e7-4c2a-9970-8e1a04d4351c"
      },
      "execution_count": 9,
      "outputs": [
        {
          "output_type": "stream",
          "name": "stdout",
          "text": [
            "True\n",
            "False\n"
          ]
        }
      ]
    },
    {
      "cell_type": "code",
      "source": [
        "'''Question3. Create a function that replaces all the vowels in a string with a specified character.\n",
        "Examples\n",
        "replace_vowels('the aardvark', '#') ➞ 'th# ##rdv#rk'\n",
        "replace_vowels('minnie mouse', '?') ➞ 'm?nn?? m??s?'\n",
        "replace_vowels('shakespeare', '*') ➞ 'sh*k*sp**r*'''\n",
        "\n",
        "def replacevowels(w,s):\n",
        "  v = \"AEIOUaeiou\"\n",
        "  for i in v:\n",
        "    w = w.replace(i,s)\n",
        "  return (w)\n",
        "\n",
        "print(replacevowels(\"the aardvark\", \"#\"))\n",
        "print(replacevowels(\"minnie mouse\", \"?\"))\n",
        "print(replacevowels(\"shakespare\", \"*\"))\n"
      ],
      "metadata": {
        "colab": {
          "base_uri": "https://localhost:8080/"
        },
        "id": "7zbVXlANktrH",
        "outputId": "ce210377-fd24-428e-afb0-4f00e5e6ad1d"
      },
      "execution_count": 13,
      "outputs": [
        {
          "output_type": "stream",
          "name": "stdout",
          "text": [
            "th# ##rdv#rk\n",
            "m?nn?? m??s?\n",
            "sh*k*sp*r*\n"
          ]
        }
      ]
    },
    {
      "cell_type": "code",
      "source": [
        "'''Question4. Write a function that calculates the factorial of a number recursively.\n",
        "Examples\n",
        "factorial(5) ➞ 120\n",
        "factorial(3) ➞ 6\n",
        "factorial(1) ➞ 1\n",
        "factorial(0) ➞ 1'''\n",
        "def factorial(n):\n",
        "  f = 1\n",
        "  for i in range(1,n+1):\n",
        "    f = f*i\n",
        "  return (f)\n",
        "\n",
        "print(factorial(5))\n",
        "print(factorial(3))\n",
        "print(factorial(1))\n",
        "print(factorial(0))"
      ],
      "metadata": {
        "colab": {
          "base_uri": "https://localhost:8080/"
        },
        "id": "zYZGMHraq46N",
        "outputId": "78330e2e-93cd-46ff-a4cc-d1d18bf06f23"
      },
      "execution_count": 16,
      "outputs": [
        {
          "output_type": "stream",
          "name": "stdout",
          "text": [
            "120\n",
            "6\n",
            "1\n",
            "1\n"
          ]
        }
      ]
    },
    {
      "cell_type": "code",
      "source": [
        "'''Question 5\n",
        "Hamming distance is the number of characters that differ between two strings.\n",
        "To illustrate:\n",
        "String1: 'abcbba'\n",
        "String2: 'abcbda'\n",
        "Hamming Distance: 1 - 'b' vs. 'd' is the only difference.\n",
        "Create a function that computes the hamming distance between two strings.\n",
        "Examples\n",
        "hamming_distance('abcde', 'bcdef') ➞ 5\n",
        "hamming_distance('abcde', 'abcde') ➞ 0\n",
        "hamming_distance('strong', 'strung') ➞ 1'''\n",
        "\n",
        "def hamming_distance(f, s):\n",
        "  i = 0\n",
        "  count = 0\n",
        "  while(i<len(f)):\n",
        "    if f[i] != s[i]:\n",
        "      count = 0\n",
        "      count = count+1\n",
        "    i = i+1\n",
        "  return(count)\n",
        "\n",
        "print(hamming_distance(\"strong\", \"strung\"))\n",
        "print(hamming_distance(\"abcde\", \"abcde\"))\n",
        "\n"
      ],
      "metadata": {
        "colab": {
          "base_uri": "https://localhost:8080/"
        },
        "id": "mvBZCrIbs3ly",
        "outputId": "984e77d1-25a9-4c61-88b0-d8541f3a9b59"
      },
      "execution_count": 24,
      "outputs": [
        {
          "output_type": "stream",
          "name": "stdout",
          "text": [
            "1\n",
            "0\n"
          ]
        }
      ]
    },
    {
      "cell_type": "code",
      "source": [],
      "metadata": {
        "id": "lMP4Zs_4viqp"
      },
      "execution_count": null,
      "outputs": []
    }
  ]
}