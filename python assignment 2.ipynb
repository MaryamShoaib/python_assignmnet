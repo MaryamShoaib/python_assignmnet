{
 "cells": [
  {
   "cell_type": "code",
   "execution_count": 7,
   "id": "cfe9f258",
   "metadata": {},
   "outputs": [
    {
     "name": "stdout",
     "output_type": "stream",
     "text": [
      "Enter a kilometer here: 1.609\n",
      "Miles are  0.999785939\n"
     ]
    }
   ],
   "source": [
    "#Write a Python program to convert kilometers to miles?\n",
    "\n",
    "k = float(input(\"Enter a kilometer here: \"))\n",
    "c = 0.621371\n",
    "m = k*c\n",
    "print(\"Miles are \", m)"
   ]
  },
  {
   "cell_type": "code",
   "execution_count": 9,
   "id": "b95b1682",
   "metadata": {},
   "outputs": [
    {
     "name": "stdout",
     "output_type": "stream",
     "text": [
      "Enter temperature in celsius here: 1\n",
      "Temperature in Fahrenheit is  33.8\n"
     ]
    }
   ],
   "source": [
    "#Write a Python program to convert Celsius to Fahrenheit?\n",
    "\n",
    "c = float(input(\"Enter temperature in celsius here: \"))\n",
    "f = (c*1.8)+32\n",
    "print(\"Temperature in Fahrenheit is \", f)"
   ]
  },
  {
   "cell_type": "code",
   "execution_count": 11,
   "id": "60deb1c4",
   "metadata": {},
   "outputs": [
    {
     "name": "stdout",
     "output_type": "stream",
     "text": [
      "Enter a year here: 1994\n",
      "Enter a month here: 2\n",
      "   February 1994\n",
      "Mo Tu We Th Fr Sa Su\n",
      "    1  2  3  4  5  6\n",
      " 7  8  9 10 11 12 13\n",
      "14 15 16 17 18 19 20\n",
      "21 22 23 24 25 26 27\n",
      "28\n",
      "\n"
     ]
    }
   ],
   "source": [
    "#Write a Python program to display calendar?\n",
    "import calendar\n",
    "\n",
    "y = int(input(\"Enter a year here: \"))\n",
    "m = int(input(\"Enter a month here: \"))\n",
    "\n",
    "print(calendar.month(y,m))"
   ]
  },
  {
   "cell_type": "code",
   "execution_count": 12,
   "id": "d02279f6",
   "metadata": {},
   "outputs": [
    {
     "name": "stdout",
     "output_type": "stream",
     "text": [
      "The solution are (-3+0j) and (-2+0j)\n"
     ]
    }
   ],
   "source": [
    "#Write a Python program to solve quadratic equation?\n",
    "# The quadratic equation ax**2 + bx + c = 0\n",
    "\n",
    "import cmath\n",
    "\n",
    "a = 1\n",
    "b = 5\n",
    "c = 6\n",
    "\n",
    "d = (b**2) - (4*a*c)\n",
    "\n",
    "sol1 = (-b-cmath.sqrt(d))/(2*a)\n",
    "sol2 = (-b+cmath.sqrt(d))/(2*a)\n",
    "\n",
    "print('The solution are {0} and {1}'.format(sol1,sol2))\n"
   ]
  },
  {
   "cell_type": "code",
   "execution_count": 13,
   "id": "fe1839aa",
   "metadata": {},
   "outputs": [
    {
     "name": "stdout",
     "output_type": "stream",
     "text": [
      "Enter a value for x: 5\n",
      "Enter a vlaue of y: 15\n",
      "Value of x after swapping is  15\n",
      "Vlaue of y after swapping is  5\n"
     ]
    }
   ],
   "source": [
    "#Write a Python program to swap two variables without temp variable?\n",
    "\n",
    "x = int(input(\"Enter a value for x: \"))\n",
    "y = int(input(\"Enter a vlaue of y: \"))\n",
    "\n",
    "x,y = y,x\n",
    "\n",
    "print(\"Value of x after swapping is \", x)\n",
    "print(\"Vlaue of y after swapping is \", y)"
   ]
  },
  {
   "cell_type": "code",
   "execution_count": null,
   "id": "13c02958",
   "metadata": {},
   "outputs": [],
   "source": []
  }
 ],
 "metadata": {
  "kernelspec": {
   "display_name": "Python 3 (ipykernel)",
   "language": "python",
   "name": "python3"
  },
  "language_info": {
   "codemirror_mode": {
    "name": "ipython",
    "version": 3
   },
   "file_extension": ".py",
   "mimetype": "text/x-python",
   "name": "python",
   "nbconvert_exporter": "python",
   "pygments_lexer": "ipython3",
   "version": "3.9.12"
  }
 },
 "nbformat": 4,
 "nbformat_minor": 5
}
