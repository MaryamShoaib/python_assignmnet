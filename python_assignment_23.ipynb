{
  "nbformat": 4,
  "nbformat_minor": 0,
  "metadata": {
    "colab": {
      "provenance": []
    },
    "kernelspec": {
      "name": "python3",
      "display_name": "Python 3"
    },
    "language_info": {
      "name": "python"
    }
  },
  "cells": [
    {
      "cell_type": "code",
      "execution_count": null,
      "metadata": {
        "colab": {
          "base_uri": "https://localhost:8080/"
        },
        "id": "K6oulycvEVuU",
        "outputId": "d8e8575d-0549-41c6-f491-cfb26083b7c6"
      },
      "outputs": [
        {
          "output_type": "stream",
          "name": "stdout",
          "text": [
            "True\n",
            "False\n",
            "True\n",
            "False\n",
            "True\n"
          ]
        }
      ],
      "source": [
        "'''Question 1\n",
        "Create a function that takes a number as an argument and returns True or False depending\n",
        "on whether the number is symmetrical or not. A number is symmetrical when it is the same as\n",
        "its reverse.\n",
        "Examples\n",
        "is_symmetrical(7227) ➞ True\n",
        "is_symmetrical(12567) ➞ False\n",
        "is_symmetrical(44444444) ➞ True\n",
        "is_symmetrical(9939) ➞ False\n",
        "is_symmetrical(1112111) ➞ True'''\n",
        "\n",
        "def is_symmetrical(n):\n",
        "  n = str(n)\n",
        "  n1 = \"\".join(reversed(n))\n",
        "  if n == n1:\n",
        "    return True\n",
        "  else:\n",
        "    return False\n",
        "\n",
        "print(is_symmetrical(7227))\n",
        "print(is_symmetrical(12567))\n",
        "print(is_symmetrical(44444444))\n",
        "print(is_symmetrical(9939))\n",
        "print(is_symmetrical(1112111))"
      ]
    },
    {
      "cell_type": "code",
      "source": [
        "'''Question 2\n",
        "Given a string of numbers separated by a comma and space, return the product of the\n",
        "numbers.\n",
        "Examples\n",
        "multiply_nums('2, 3') ➞ 6\n",
        "multiply_nums('1, 2, 3, 4') ➞ 24\n",
        "multiply_nums('54, 75, 453, 0') ➞ 0\n",
        "multiply_nums(10, -2') ➞ -20'''\n",
        "\n",
        "def multiply_nums(n):\n",
        "    n = n.replace(' ', \"\")\n",
        "    n = n.split(',')\n",
        "    sum = 1\n",
        "    for i in n:\n",
        "        sum = sum * int(i)\n",
        "    return sum\n",
        "\n",
        "print(multiply_nums(\"2, 3\"))\n",
        "print(multiply_nums(\"1, 2, 3, 4\"))\n",
        "print(multiply_nums(\"54, 75, 453, 0\"))\n",
        "print(multiply_nums(\"10, -2\"))"
      ],
      "metadata": {
        "colab": {
          "base_uri": "https://localhost:8080/"
        },
        "id": "pM-WfpP5Kp5l",
        "outputId": "dad3bc9d-bc0d-4f71-d807-3c7acfc4e0ec"
      },
      "execution_count": 8,
      "outputs": [
        {
          "output_type": "stream",
          "name": "stdout",
          "text": [
            "6\n",
            "24\n",
            "0\n",
            "-20\n"
          ]
        }
      ]
    },
    {
      "cell_type": "code",
      "source": [
        "'''Question 3\n",
        "Create a function that squares every digit of a number.\n",
        "Examples\n",
        "square_digits(9119) ➞ 811181\n",
        "square_digits(2483) ➞ 416649\n",
        "square_digits(3212) ➞ 9414\n",
        "Notes\n",
        "The function receives an integer and must return an integer.'''\n",
        "\n",
        "def square_digits(n):\n",
        "  x = \"\".join(str(int(i)**2) for i in str(n))\n",
        "  return int(x)\n",
        "\n",
        "print(square_digits(9119))\n",
        "print(square_digits(2483))\n",
        "print(square_digits(3212))"
      ],
      "metadata": {
        "colab": {
          "base_uri": "https://localhost:8080/"
        },
        "id": "P3evaTbfYeF2",
        "outputId": "c3d825b2-4de4-4552-f9f1-01ed7fcdb106"
      },
      "execution_count": 27,
      "outputs": [
        {
          "output_type": "stream",
          "name": "stdout",
          "text": [
            "811181\n",
            "416649\n",
            "9414\n"
          ]
        }
      ]
    },
    {
      "cell_type": "code",
      "source": [
        "'''Question 4\n",
        "Create a function that sorts a list and removes all duplicate items from it.\n",
        "Examples\n",
        "setify([1, 3, 3, 5, 5]) ➞ [1, 3, 5]\n",
        "setify([4, 4, 4, 4]) ➞ [4]\n",
        "setify([5, 7, 8, 9, 10, 15]) ➞ [5, 7, 8, 9, 10, 15]\n",
        "setify([3, 3, 3, 2, 1]) ➞ [1, 2, 3]'''\n",
        "\n",
        "def setify(n):\n",
        "  return list(set(n))\n",
        "\n",
        "print(setify([1, 3, 3, 5, 5]))\n",
        "print(setify([4, 4, 4, 4]))\n",
        "print(setify([5,7,8,9,10,15]))\n",
        "print(setify([3,3,3,2,1]))\n",
        "    "
      ],
      "metadata": {
        "colab": {
          "base_uri": "https://localhost:8080/"
        },
        "id": "v5zpzmi7al0_",
        "outputId": "c92c7318-b9d7-45f8-fb52-e561d6a06b85"
      },
      "execution_count": 11,
      "outputs": [
        {
          "output_type": "stream",
          "name": "stdout",
          "text": [
            "[1, 3, 5]\n",
            "[4]\n",
            "[5, 7, 8, 9, 10, 15]\n",
            "[1, 2, 3]\n"
          ]
        }
      ]
    },
    {
      "cell_type": "code",
      "source": [
        "'''Question 5\n",
        "Create a function that returns the mean of all digits.\n",
        "Examples\n",
        "mean(42) ➞ 3\n",
        "mean(12345) ➞ 3\n",
        "mean(666) ➞ 6\n",
        "Notes\n",
        " The mean of all digits is the sum of digits / how many digits there are (e.g. mean of digits in\n",
        "512 is (5+1+2)/3(number of digits) = 8/3=2).\n",
        " The mean will always be an integer.'''\n",
        "\n",
        "def mean(n):\n",
        "  N = len(str(n))\n",
        "  sum = 0\n",
        "  for i in str(n):\n",
        "    sum = sum + int(i)\n",
        "  return int(sum/N)\n",
        "\n",
        "print(mean(42))\n",
        "print(mean(12345))\n",
        "print(mean(666))\n"
      ],
      "metadata": {
        "colab": {
          "base_uri": "https://localhost:8080/"
        },
        "id": "TwfThr5-3qqy",
        "outputId": "89262f26-a271-4a21-87c6-f3c278baafec"
      },
      "execution_count": 14,
      "outputs": [
        {
          "output_type": "stream",
          "name": "stdout",
          "text": [
            "3\n",
            "3\n",
            "6\n"
          ]
        }
      ]
    }
  ]
}