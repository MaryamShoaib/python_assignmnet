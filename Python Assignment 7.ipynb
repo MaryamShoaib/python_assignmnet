{
 "cells": [
  {
   "cell_type": "code",
   "execution_count": 1,
   "id": "aa5e2e20",
   "metadata": {},
   "outputs": [],
   "source": [
    "# Write a Python Program to find sum of array?\n",
    "def asum(*args):\n",
    "    total=0\n",
    "    for i in args:\n",
    "        total+=i\n",
    "    return total"
   ]
  },
  {
   "cell_type": "code",
   "execution_count": 5,
   "id": "1e152884",
   "metadata": {},
   "outputs": [
    {
     "name": "stdout",
     "output_type": "stream",
     "text": [
      "The sum of array is  34\n"
     ]
    }
   ],
   "source": [
    "sum(12,3,4,15)\n",
    "print(\"The sum of array is \",asum(12,3,4,15))"
   ]
  },
  {
   "cell_type": "code",
   "execution_count": 6,
   "id": "c9005aff",
   "metadata": {},
   "outputs": [
    {
     "data": {
      "text/plain": [
       "60"
      ]
     },
     "execution_count": 6,
     "metadata": {},
     "output_type": "execute_result"
    }
   ],
   "source": [
    "# Write a Python Program to find largest element in an array?\n",
    "def alar(*args):\n",
    "    return max(args)\n",
    "\n",
    "alar(10,20,45,60)\n"
   ]
  },
  {
   "cell_type": "code",
   "execution_count": 7,
   "id": "388cf017",
   "metadata": {},
   "outputs": [
    {
     "name": "stdout",
     "output_type": "stream",
     "text": [
      "[10, 12, 2, 4, 6, 8]\n"
     ]
    }
   ],
   "source": [
    "# Write a Python Program for array rotation?\n",
    "\n",
    "# d is the no of element to skip \n",
    "# n is the no of elements in an array\n",
    "def arrot(arr,d):\n",
    "    temp =[]\n",
    "    n = len(arr)\n",
    "    for i in range(d,n):\n",
    "        temp.append(arr[i])\n",
    "    i=0\n",
    "    for i in range(0,d):\n",
    "        temp.append(arr[i])\n",
    "    return temp\n",
    "\n",
    "ar =[2,4,6,8,10,12]\n",
    "print(arrot(ar,4))\n",
    "        "
   ]
  },
  {
   "cell_type": "code",
   "execution_count": 1,
   "id": "876677b3",
   "metadata": {},
   "outputs": [
    {
     "name": "stdout",
     "output_type": "stream",
     "text": [
      "8 42 12 20 25 34 "
     ]
    }
   ],
   "source": [
    "# Write a Python Program to Split the array and add the first part to the end?\n",
    "\n",
    "def splitArr(arr, n, k):\n",
    "    for i in range(0, k):\n",
    "        x = arr[0]\n",
    "        for j in range(0, n-1):\n",
    "            arr[j] = arr[j + 1]\n",
    "            \n",
    "        arr[n-1] = x\n",
    "\n",
    "arr = [20, 25, 34, 8, 42, 12]\n",
    "n = len(arr)\n",
    "position = 3\n",
    "splitArr(arr, n, position)\n",
    "\n",
    "for i in range(0, n):\n",
    "    print(arr[i], end = ' ')"
   ]
  },
  {
   "cell_type": "code",
   "execution_count": 3,
   "id": "61103044",
   "metadata": {},
   "outputs": [
    {
     "name": "stdout",
     "output_type": "stream",
     "text": [
      "False\n"
     ]
    }
   ],
   "source": [
    "# Write a Python Program to check if given array is Monotonic?\n",
    "\n",
    "def mon(arr):\n",
    "    a,b = [],[]\n",
    "    a.extend(arr)\n",
    "    b.extend(arr)\n",
    "    a.sort()\n",
    "    b.sort(reverse=True)\n",
    "    if arr == a or arr == b:\n",
    "        return True\n",
    "    return False\n",
    "\n",
    "z = [2,3,4,2]\n",
    "print(mon(arr))"
   ]
  }
 ],
 "metadata": {
  "kernelspec": {
   "display_name": "Python 3 (ipykernel)",
   "language": "python",
   "name": "python3"
  },
  "language_info": {
   "codemirror_mode": {
    "name": "ipython",
    "version": 3
   },
   "file_extension": ".py",
   "mimetype": "text/x-python",
   "name": "python",
   "nbconvert_exporter": "python",
   "pygments_lexer": "ipython3",
   "version": "3.9.12"
  }
 },
 "nbformat": 4,
 "nbformat_minor": 5
}
