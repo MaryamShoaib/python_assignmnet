{
 "cells": [
  {
   "cell_type": "code",
   "execution_count": 22,
   "id": "722701c6",
   "metadata": {},
   "outputs": [],
   "source": [
    "# Write a Python Program to Display Fibonacci Sequence Using Recursion?\n",
    "def fib(n):\n",
    "    if n<=1:\n",
    "        return n\n",
    "    else:\n",
    "        return(fib(n-1)+fib(n-2))"
   ]
  },
  {
   "cell_type": "code",
   "execution_count": 24,
   "id": "defcf3f0",
   "metadata": {},
   "outputs": [
    {
     "name": "stdout",
     "output_type": "stream",
     "text": [
      "0\n",
      "1\n",
      "1\n",
      "2\n",
      "3\n",
      "5\n",
      "8\n",
      "13\n",
      "21\n",
      "34\n"
     ]
    }
   ],
   "source": [
    "c = 10\n",
    "\n",
    "if c<0:\n",
    "    print(\"Enter a positive number\")\n",
    "else:\n",
    "    for i in range(c):\n",
    "        print(fib(i))"
   ]
  },
  {
   "cell_type": "code",
   "execution_count": 30,
   "id": "a0ec39c3",
   "metadata": {},
   "outputs": [],
   "source": [
    "# Write a Python Program to Find Factorial of Number Using Recursion?\n",
    "\n",
    "def fac(n):\n",
    "    if n<=1:\n",
    "        return n\n",
    "    else:\n",
    "        return n*fac(n-1)"
   ]
  },
  {
   "cell_type": "code",
   "execution_count": 32,
   "id": "0454d590",
   "metadata": {},
   "outputs": [
    {
     "name": "stdout",
     "output_type": "stream",
     "text": [
      "Factorial for 6 is 720\n"
     ]
    }
   ],
   "source": [
    "x = 6\n",
    "if x<0:\n",
    "    print(\"Enter a positive number\")\n",
    "elif x ==0:\n",
    "    print(\"No factorial\")\n",
    "else:\n",
    "    print(\"Factorial for\",x,\"is\",fac(x))"
   ]
  },
  {
   "cell_type": "code",
   "execution_count": 59,
   "id": "24e60bc6",
   "metadata": {},
   "outputs": [
    {
     "name": "stdout",
     "output_type": "stream",
     "text": [
      "Enter your weight in meters here: 2\n",
      "Enter your height in kg here: 90\n",
      "The BMI is 22.5 which is Healthy\n"
     ]
    }
   ],
   "source": [
    "# # Write a Python Program to calculate your Body Mass Index?\n",
    "def BMI(w,h):\n",
    "    return (w/(h**2))\n",
    "\n",
    "\n",
    "weight=float(input(\"Enter your weight in meters here: \"))\n",
    "height=float(input(\"Enter your height in kg here: \"))\n",
    "\n",
    "bmi = BMI(height, weight)\n",
    "\n",
    "print(\"The BMI is\", format(bmi),\"which is\", end=' ')\n",
    "\n",
    "\n",
    "if (bmi < 18.5):\n",
    "    print(\"underweight\")\n",
    "\n",
    "elif ( bmi >= 18.5 and bmi < 24.9):\n",
    "    print(\"Healthy\")\n",
    "\n",
    "elif ( bmi >= 24.9 and bmi < 30):\n",
    "    print(\"overweight\")\n",
    "\n",
    "elif ( bmi >=30):\n",
    "    print(\"Suffering from Obesity\")\n"
   ]
  },
  {
   "cell_type": "code",
   "execution_count": 62,
   "id": "37a9edb3",
   "metadata": {},
   "outputs": [
    {
     "name": "stdout",
     "output_type": "stream",
     "text": [
      "Natural logarithm of 18 is:  2.6390573296152584\n"
     ]
    }
   ],
   "source": [
    "# Write a Python Program to calculate the natural logarithm of any number?\n",
    "\n",
    "import math\n",
    "    \n",
    "print(\"Natural logarithm of 18 is: \",end=\" \" )\n",
    "print(math.log(14))"
   ]
  },
  {
   "cell_type": "code",
   "execution_count": 77,
   "id": "1ea04a37",
   "metadata": {},
   "outputs": [
    {
     "name": "stdout",
     "output_type": "stream",
     "text": [
      "Enter a natural number to get a cube sum: 10\n",
      "3025\n"
     ]
    }
   ],
   "source": [
    "# Write a Python Program for cube sum of first n natural numbers?\n",
    "def nsum(n):\n",
    "    total=0\n",
    "    for i in range(1, n+1):\n",
    "        total+=i**3\n",
    "    return total\n",
    "n = int(input(\"Enter a natural number to get a cube sum: \"))\n",
    "print(nsum(n))"
   ]
  }
 ],
 "metadata": {
  "kernelspec": {
   "display_name": "Python 3 (ipykernel)",
   "language": "python",
   "name": "python3"
  },
  "language_info": {
   "codemirror_mode": {
    "name": "ipython",
    "version": 3
   },
   "file_extension": ".py",
   "mimetype": "text/x-python",
   "name": "python",
   "nbconvert_exporter": "python",
   "pygments_lexer": "ipython3",
   "version": "3.9.12"
  }
 },
 "nbformat": 4,
 "nbformat_minor": 5
}
